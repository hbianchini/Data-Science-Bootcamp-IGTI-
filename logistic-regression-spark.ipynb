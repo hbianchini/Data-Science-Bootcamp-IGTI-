{
  "nbformat": 4,
  "nbformat_minor": 0,
  "metadata": {
    "name": "desafio_CID",
    "notebookId": 3310322013978407,
    "colab": {
      "name": "desafio_CID.ipynb",
      "provenance": [],
      "collapsed_sections": []
    },
    "language_info": {
      "name": "python"
    },
    "kernelspec": {
      "name": "python3",
      "display_name": "Python 3"
    }
  },
  "cells": [
    {
      "cell_type": "code",
      "metadata": {
        "id": "nERuJSFCzMmJ"
      },
      "source": [
        "# Example: learning about dataframes, spark and logistic regression.\n",
        "# Dataset: datasets/healthcare-dataset-stroke-data.csv\n",
        "# Author: Humberto Bianchini"
      ],
      "execution_count": 1,
      "outputs": []
    },
    {
      "cell_type": "code",
      "metadata": {
        "id": "t2n_mMsQzMmX"
      },
      "source": [
        "# 1) Importing all necessary libraries and Spark session creation.\n",
        "import matplotlib.pyplot as plt\n",
        "from pyspark.ml import Pipeline\n",
        "from pyspark.ml.classification import LogisticRegression\n",
        "from pyspark.ml.evaluation import MulticlassClassificationEvaluator\n",
        "from pyspark.ml.feature import VectorAssembler,OneHotEncoder, StringIndexer\n",
        "from pyspark.sql import SparkSession\n",
        "from pyspark.sql.functions import *\n",
        "\n",
        "spark = SparkSession.builder.appName(\"Spark Task\").getOrCreate()"
      ],
      "execution_count": 2,
      "outputs": []
    },
    {
      "cell_type": "code",
      "metadata": {
        "id": "FTtlSFH7zMmd",
        "colab": {
          "base_uri": "https://localhost:8080/"
        },
        "outputId": "1fd516d7-e576-4e35-9a26-1b19fa12aa0b"
      },
      "source": [
        "# 2) Reading and showing some details about the dataset.\n",
        "dataset = spark.read.format(\"csv\").options(header=\"true\", inferschema=\"true\").load(\"healthcare-dataset-stroke-data.csv\")\n",
        "dataset.printSchema()"
      ],
      "execution_count": 3,
      "outputs": [
        {
          "output_type": "stream",
          "name": "stdout",
          "text": [
            "root\n",
            " |-- id: integer (nullable = true)\n",
            " |-- gender: string (nullable = true)\n",
            " |-- age: double (nullable = true)\n",
            " |-- hypertension: integer (nullable = true)\n",
            " |-- heart_disease: integer (nullable = true)\n",
            " |-- ever_married: string (nullable = true)\n",
            " |-- work_type: string (nullable = true)\n",
            " |-- Residence_type: string (nullable = true)\n",
            " |-- avg_glucose_level: double (nullable = true)\n",
            " |-- bmi: string (nullable = true)\n",
            " |-- smoking_status: string (nullable = true)\n",
            " |-- stroke: integer (nullable = true)\n",
            "\n"
          ]
        }
      ]
    },
    {
      "cell_type": "code",
      "metadata": {
        "colab": {
          "base_uri": "https://localhost:8080/"
        },
        "id": "Wu7aNCJwzMmm",
        "outputId": "c4123794-1291-43b4-fd44-11690b162466"
      },
      "source": [
        "dataset.count()"
      ],
      "execution_count": 4,
      "outputs": [
        {
          "output_type": "execute_result",
          "data": {
            "text/plain": [
              "5110"
            ]
          },
          "metadata": {},
          "execution_count": 4
        }
      ]
    },
    {
      "cell_type": "code",
      "metadata": {
        "colab": {
          "base_uri": "https://localhost:8080/"
        },
        "id": "bP7EHMxRzMmo",
        "outputId": "d5184ce1-f634-4953-957b-2868366b628c"
      },
      "source": [
        "dataset.show(10)"
      ],
      "execution_count": 5,
      "outputs": [
        {
          "output_type": "stream",
          "name": "stdout",
          "text": [
            "+-----+------+----+------------+-------------+------------+-------------+--------------+-----------------+----+---------------+------+\n",
            "|   id|gender| age|hypertension|heart_disease|ever_married|    work_type|Residence_type|avg_glucose_level| bmi| smoking_status|stroke|\n",
            "+-----+------+----+------------+-------------+------------+-------------+--------------+-----------------+----+---------------+------+\n",
            "| 9046|  Male|67.0|           0|            1|         Yes|      Private|         Urban|           228.69|36.6|formerly smoked|     1|\n",
            "|51676|Female|61.0|           0|            0|         Yes|Self-employed|         Rural|           202.21| N/A|   never smoked|     1|\n",
            "|31112|  Male|80.0|           0|            1|         Yes|      Private|         Rural|           105.92|32.5|   never smoked|     1|\n",
            "|60182|Female|49.0|           0|            0|         Yes|      Private|         Urban|           171.23|34.4|         smokes|     1|\n",
            "| 1665|Female|79.0|           1|            0|         Yes|Self-employed|         Rural|           174.12|  24|   never smoked|     1|\n",
            "|56669|  Male|81.0|           0|            0|         Yes|      Private|         Urban|           186.21|  29|formerly smoked|     1|\n",
            "|53882|  Male|74.0|           1|            1|         Yes|      Private|         Rural|            70.09|27.4|   never smoked|     1|\n",
            "|10434|Female|69.0|           0|            0|          No|      Private|         Urban|            94.39|22.8|   never smoked|     1|\n",
            "|27419|Female|59.0|           0|            0|         Yes|      Private|         Rural|            76.15| N/A|        Unknown|     1|\n",
            "|60491|Female|78.0|           0|            0|         Yes|      Private|         Urban|            58.57|24.2|        Unknown|     1|\n",
            "+-----+------+----+------------+-------------+------------+-------------+--------------+-----------------+----+---------------+------+\n",
            "only showing top 10 rows\n",
            "\n"
          ]
        }
      ]
    },
    {
      "cell_type": "code",
      "metadata": {
        "colab": {
          "base_uri": "https://localhost:8080/"
        },
        "id": "Y2gRB0yNzMmq",
        "outputId": "0e48d37e-5279-47eb-8fbe-003416d34476"
      },
      "source": [
        "dataset.select('age','hypertension').show(10)"
      ],
      "execution_count": 6,
      "outputs": [
        {
          "output_type": "stream",
          "name": "stdout",
          "text": [
            "+----+------------+\n",
            "| age|hypertension|\n",
            "+----+------------+\n",
            "|67.0|           0|\n",
            "|61.0|           0|\n",
            "|80.0|           0|\n",
            "|49.0|           0|\n",
            "|79.0|           1|\n",
            "|81.0|           0|\n",
            "|74.0|           1|\n",
            "|69.0|           0|\n",
            "|59.0|           0|\n",
            "|78.0|           0|\n",
            "+----+------------+\n",
            "only showing top 10 rows\n",
            "\n"
          ]
        }
      ]
    },
    {
      "cell_type": "code",
      "metadata": {
        "colab": {
          "base_uri": "https://localhost:8080/"
        },
        "id": "2wSKp7OPzMms",
        "outputId": "7f3a8674-66b1-4dd6-de6e-386c6ca544d9"
      },
      "source": [
        "dataset.groupBy(\"gender\").count().sort(\"count\",ascending=True).show()"
      ],
      "execution_count": 7,
      "outputs": [
        {
          "output_type": "stream",
          "name": "stdout",
          "text": [
            "+------+-----+\n",
            "|gender|count|\n",
            "+------+-----+\n",
            "| Other|    1|\n",
            "|  Male| 2115|\n",
            "|Female| 2994|\n",
            "+------+-----+\n",
            "\n"
          ]
        }
      ]
    },
    {
      "cell_type": "code",
      "metadata": {
        "colab": {
          "base_uri": "https://localhost:8080/"
        },
        "id": "2SyzWQdQzMmu",
        "outputId": "4bb5523f-2bbb-4733-84d3-a5f58da304a5"
      },
      "source": [
        "dataset.groupby('smoking_status').count().sort(\"count\",ascending=True).show()"
      ],
      "execution_count": 8,
      "outputs": [
        {
          "output_type": "stream",
          "name": "stdout",
          "text": [
            "+---------------+-----+\n",
            "| smoking_status|count|\n",
            "+---------------+-----+\n",
            "|         smokes|  789|\n",
            "|formerly smoked|  885|\n",
            "|        Unknown| 1544|\n",
            "|   never smoked| 1892|\n",
            "+---------------+-----+\n",
            "\n"
          ]
        }
      ]
    },
    {
      "cell_type": "code",
      "metadata": {
        "colab": {
          "base_uri": "https://localhost:8080/"
        },
        "id": "r9dLo9jYzMmv",
        "outputId": "e9e16e08-da03-42e0-c61c-ec247067fe47"
      },
      "source": [
        "dataset.groupby('hypertension').count().sort(\"count\",ascending=True).show()"
      ],
      "execution_count": 9,
      "outputs": [
        {
          "output_type": "stream",
          "name": "stdout",
          "text": [
            "+------------+-----+\n",
            "|hypertension|count|\n",
            "+------------+-----+\n",
            "|           1|  498|\n",
            "|           0| 4612|\n",
            "+------------+-----+\n",
            "\n"
          ]
        }
      ]
    },
    {
      "cell_type": "code",
      "metadata": {
        "colab": {
          "base_uri": "https://localhost:8080/"
        },
        "id": "DIXBhLvEzMmy",
        "outputId": "18af3ef4-83d8-431f-9cc9-2cba6b8cf782"
      },
      "source": [
        "dataset.groupby('stroke').count().show()"
      ],
      "execution_count": 10,
      "outputs": [
        {
          "output_type": "stream",
          "name": "stdout",
          "text": [
            "+------+-----+\n",
            "|stroke|count|\n",
            "+------+-----+\n",
            "|     1|  249|\n",
            "|     0| 4861|\n",
            "+------+-----+\n",
            "\n"
          ]
        }
      ]
    },
    {
      "cell_type": "code",
      "metadata": {
        "colab": {
          "base_uri": "https://localhost:8080/"
        },
        "id": "RHnVoituzMmz",
        "outputId": "7f19c753-cb2e-4497-9961-e3ebe4398938"
      },
      "source": [
        "dataset.filter(dataset.gender== 'Female').count()"
      ],
      "execution_count": 11,
      "outputs": [
        {
          "output_type": "execute_result",
          "data": {
            "text/plain": [
              "2994"
            ]
          },
          "metadata": {},
          "execution_count": 11
        }
      ]
    },
    {
      "cell_type": "code",
      "metadata": {
        "colab": {
          "base_uri": "https://localhost:8080/"
        },
        "id": "tRwoopCwzMm1",
        "outputId": "fd051936-f954-4cc1-b5a7-7587a79d1494"
      },
      "source": [
        "dataset.groupBy(\"work_type\").agg({'work_type': 'count'}).sort(asc(\"count(work_type)\")).show()"
      ],
      "execution_count": 12,
      "outputs": [
        {
          "output_type": "stream",
          "name": "stdout",
          "text": [
            "+-------------+----------------+\n",
            "|    work_type|count(work_type)|\n",
            "+-------------+----------------+\n",
            "| Never_worked|              22|\n",
            "|     Govt_job|             657|\n",
            "|     children|             687|\n",
            "|Self-employed|             819|\n",
            "|      Private|            2925|\n",
            "+-------------+----------------+\n",
            "\n"
          ]
        }
      ]
    },
    {
      "cell_type": "code",
      "metadata": {
        "colab": {
          "base_uri": "https://localhost:8080/"
        },
        "id": "9X0POlbIzMm3",
        "outputId": "c81b5786-528f-460c-c586-88d6b22f7f1b"
      },
      "source": [
        "numeric_values  = ['age',\"avg_glucose_level\", \"bmi\"]\n",
        "dataset.describe(numeric_values).show(truncate=False)"
      ],
      "execution_count": 13,
      "outputs": [
        {
          "output_type": "stream",
          "name": "stdout",
          "text": [
            "+-------+------------------+------------------+------------------+\n",
            "|summary|age               |avg_glucose_level |bmi               |\n",
            "+-------+------------------+------------------+------------------+\n",
            "|count  |5110              |5110              |5110              |\n",
            "|mean   |43.226614481409015|106.14767710371804|28.893236911794673|\n",
            "|stddev |22.61264672311348 |45.28356015058193 |7.85406672968016  |\n",
            "|min    |0.08              |55.12             |10.3              |\n",
            "|max    |82.0              |271.74            |N/A               |\n",
            "+-------+------------------+------------------+------------------+\n",
            "\n"
          ]
        }
      ]
    },
    {
      "cell_type": "code",
      "metadata": {
        "colab": {
          "base_uri": "https://localhost:8080/",
          "height": 592
        },
        "id": "ZUJvccOKzMm5",
        "outputId": "a6ef9d6d-1150-4510-e5cd-b37d0428358e"
      },
      "source": [
        "df = dataset.toPandas()\n",
        "df['avg_glucose_level'].plot(kind='box', figsize=(10,10));"
      ],
      "execution_count": 14,
      "outputs": [
        {
          "output_type": "display_data",
          "data": {
            "image/png": "[encoded data removed]",
            "text/plain": [
              "<Figure size 720x720 with 1 Axes>"
            ]
          },
          "metadata": {
            "needs_background": "light"
          }
        }
      ]
    },
    {
      "cell_type": "code",
      "metadata": {
        "colab": {
          "base_uri": "https://localhost:8080/",
          "height": 320
        },
        "id": "GlN-2oigzMm7",
        "outputId": "dee43588-939f-4271-ab9f-dac322bbcd32"
      },
      "source": [
        "df['age'].plot(kind='box', figsize=(5,5));"
      ],
      "execution_count": 15,
      "outputs": [
        {
          "output_type": "display_data",
          "data": {
            "image/png": "[encoded data removed]",
            "text/plain": [
              "<Figure size 360x360 with 1 Axes>"
            ]
          },
          "metadata": {
            "needs_background": "light"
          }
        }
      ]
    },
    {
      "cell_type": "code",
      "metadata": {
        "colab": {
          "base_uri": "https://localhost:8080/"
        },
        "id": "r6UXobD7zMm9",
        "outputId": "4df024ac-0274-4bd5-f69b-f6569e3db88e"
      },
      "source": [
        "dataset.groupby('Residence_type').agg({'Residence_type': 'count'}).sort(asc(\"count(Residence_type)\")).show()"
      ],
      "execution_count": 16,
      "outputs": [
        {
          "output_type": "stream",
          "name": "stdout",
          "text": [
            "+--------------+---------------------+\n",
            "|Residence_type|count(Residence_type)|\n",
            "+--------------+---------------------+\n",
            "|         Rural|                 2514|\n",
            "|         Urban|                 2596|\n",
            "+--------------+---------------------+\n",
            "\n"
          ]
        }
      ]
    },
    {
      "cell_type": "code",
      "metadata": {
        "id": "rLffDvbJzMm-"
      },
      "source": [
        "# 3) Setting up for Logistic Regression.\n",
        "mean = dataset.select(mean(dataset['bmi'])).collect()\n",
        "mean_bmi = mean[0][0]\n",
        "dataset = dataset.na.fill(mean_bmi,['bmi'])"
      ],
      "execution_count": 17,
      "outputs": []
    },
    {
      "cell_type": "code",
      "metadata": {
        "id": "rbI9Cu7szMm_"
      },
      "source": [
        "filterDataset = dataset.filter((dataset['bmi'] != 'N/A') & (dataset['smoking_status'] > 'Unknown'))"
      ],
      "execution_count": 18,
      "outputs": []
    },
    {
      "cell_type": "code",
      "metadata": {
        "id": "V8CSyOqQzMnB"
      },
      "source": [
        "stringIndexer_gender=StringIndexer(inputCol=\"gender\", outputCol=\"gender_encoded\")\n",
        "encoder_gender = OneHotEncoder(dropLast=False, inputCol=\"gender_encoded\", outputCol=\"genderVec\")"
      ],
      "execution_count": 19,
      "outputs": []
    },
    {
      "cell_type": "code",
      "metadata": {
        "id": "zWpIjOegzMnC"
      },
      "source": [
        "stringIndexer_married=StringIndexer(inputCol=\"ever_married\", outputCol=\"ever_married_encoded\")\n",
        "encoder_married = OneHotEncoder(dropLast=False, inputCol=\"ever_married_encoded\", outputCol=\"marriedVec\")"
      ],
      "execution_count": 20,
      "outputs": []
    },
    {
      "cell_type": "code",
      "metadata": {
        "id": "vl87fm0QzMnD"
      },
      "source": [
        "stringIndexer_work=StringIndexer(inputCol=\"work_type\", outputCol=\"work_type_encoded\")\n",
        "encoder_work = OneHotEncoder(dropLast=False, inputCol=\"work_type_encoded\", outputCol=\"workVec\")"
      ],
      "execution_count": 21,
      "outputs": []
    },
    {
      "cell_type": "code",
      "metadata": {
        "id": "iAz-61xHzMnD"
      },
      "source": [
        "stringIndexer_residence=StringIndexer(inputCol=\"Residence_type\", outputCol=\"Residence_type_encoded\")\n",
        "encoder_residence = OneHotEncoder(dropLast=False, inputCol=\"Residence_type_encoded\", outputCol=\"residenceVec\")"
      ],
      "execution_count": 22,
      "outputs": []
    },
    {
      "cell_type": "code",
      "metadata": {
        "id": "ABFiSLL3zMnE"
      },
      "source": [
        "stringIndexer_smoking=StringIndexer(inputCol=\"smoking_status\", outputCol=\"smoking_status_encoded\")\n",
        "encoder_smoking = OneHotEncoder(dropLast=False, inputCol=\"smoking_status_encoded\", outputCol=\"smokingVec\")"
      ],
      "execution_count": 23,
      "outputs": []
    },
    {
      "cell_type": "code",
      "metadata": {
        "id": "pf1uLfyYzMnF"
      },
      "source": [
        "inputColumns = ['age','hypertension', 'heart_disease','avg_glucose_level','genderVec','marriedVec','workVec','residenceVec','smokingVec']\n",
        "inputVector = VectorAssembler(inputCols=inputColumns,outputCol='features')"
      ],
      "execution_count": 24,
      "outputs": []
    },
    {
      "cell_type": "code",
      "metadata": {
        "id": "HNFo5yyizMnF"
      },
      "source": [
        "transformations = [stringIndexer_gender,stringIndexer_married,stringIndexer_work,stringIndexer_residence,stringIndexer_smoking,encoder_gender,encoder_married,encoder_work,encoder_residence,encoder_smoking,inputVector]"
      ],
      "execution_count": 25,
      "outputs": []
    },
    {
      "cell_type": "code",
      "metadata": {
        "id": "Bxp-SkFHzMnG"
      },
      "source": [
        "# 4) Starting the pipeline.\n",
        "pipeline = Pipeline(stages=transformations)\n",
        "pipelineModel = pipeline.fit(filterDataset)\n",
        "model = pipelineModel.transform(filterDataset)"
      ],
      "execution_count": 26,
      "outputs": []
    },
    {
      "cell_type": "code",
      "metadata": {
        "colab": {
          "base_uri": "https://localhost:8080/"
        },
        "id": "AdW4JRu5zMnG",
        "outputId": "315ac084-1818-4917-906b-c21bfe956366"
      },
      "source": [
        "model.select('age','gender','genderVec','ever_married','marriedVec','features').show()"
      ],
      "execution_count": 27,
      "outputs": [
        {
          "output_type": "stream",
          "name": "stdout",
          "text": [
            "+----+------+-------------+------------+-------------+--------------------+\n",
            "| age|gender|    genderVec|ever_married|   marriedVec|            features|\n",
            "+----+------+-------------+------------+-------------+--------------------+\n",
            "|67.0|  Male|(3,[1],[1.0])|         Yes|(2,[0],[1.0])|(19,[0,2,3,5,7,9,...|\n",
            "|80.0|  Male|(3,[1],[1.0])|         Yes|(2,[0],[1.0])|(19,[0,2,3,5,7,9,...|\n",
            "|49.0|Female|(3,[0],[1.0])|         Yes|(2,[0],[1.0])|(19,[0,3,4,7,9,14...|\n",
            "|79.0|Female|(3,[0],[1.0])|         Yes|(2,[0],[1.0])|(19,[0,1,3,4,7,10...|\n",
            "|81.0|  Male|(3,[1],[1.0])|         Yes|(2,[0],[1.0])|(19,[0,3,5,7,9,14...|\n",
            "|74.0|  Male|(3,[1],[1.0])|         Yes|(2,[0],[1.0])|(19,[0,1,2,3,5,7,...|\n",
            "|69.0|Female|(3,[0],[1.0])|          No|(2,[1],[1.0])|(19,[0,3,4,8,9,14...|\n",
            "|81.0|Female|(3,[0],[1.0])|         Yes|(2,[0],[1.0])|(19,[0,1,3,4,7,9,...|\n",
            "|61.0|Female|(3,[0],[1.0])|         Yes|(2,[0],[1.0])|(19,[0,2,3,4,7,11...|\n",
            "|54.0|Female|(3,[0],[1.0])|         Yes|(2,[0],[1.0])|(19,[0,3,4,7,9,14...|\n",
            "|79.0|Female|(3,[0],[1.0])|         Yes|(2,[0],[1.0])|(19,[0,2,3,4,7,9,...|\n",
            "|50.0|Female|(3,[0],[1.0])|         Yes|(2,[0],[1.0])|(19,[0,1,3,4,7,10...|\n",
            "|64.0|  Male|(3,[1],[1.0])|         Yes|(2,[0],[1.0])|(19,[0,2,3,5,7,9,...|\n",
            "|75.0|  Male|(3,[1],[1.0])|         Yes|(2,[0],[1.0])|(19,[0,1,3,5,7,9,...|\n",
            "|60.0|Female|(3,[0],[1.0])|          No|(2,[1],[1.0])|(19,[0,3,4,8,9,14...|\n",
            "|71.0|Female|(3,[0],[1.0])|         Yes|(2,[0],[1.0])|(19,[0,3,4,7,11,1...|\n",
            "|52.0|Female|(3,[0],[1.0])|         Yes|(2,[0],[1.0])|(19,[0,1,3,4,7,10...|\n",
            "|79.0|Female|(3,[0],[1.0])|         Yes|(2,[0],[1.0])|(19,[0,3,4,7,10,1...|\n",
            "|71.0|  Male|(3,[1],[1.0])|         Yes|(2,[0],[1.0])|(19,[0,3,5,7,9,14...|\n",
            "|80.0|  Male|(3,[1],[1.0])|         Yes|(2,[0],[1.0])|(19,[0,3,5,7,10,1...|\n",
            "+----+------+-------------+------------+-------------+--------------------+\n",
            "only showing top 20 rows\n",
            "\n"
          ]
        }
      ]
    },
    {
      "cell_type": "code",
      "metadata": {
        "id": "UCeLzJwozMnH"
      },
      "source": [
        "# 5) Setting up the Train/Test data.\n",
        "train_data, test_data = model.randomSplit([.8,.2],seed=1)"
      ],
      "execution_count": 28,
      "outputs": []
    },
    {
      "cell_type": "code",
      "metadata": {
        "colab": {
          "base_uri": "https://localhost:8080/"
        },
        "id": "y-WIfo7czMnI",
        "outputId": "b960b59b-a973-455a-9acf-77d80819990a"
      },
      "source": [
        "train_data.columns"
      ],
      "execution_count": 29,
      "outputs": [
        {
          "output_type": "execute_result",
          "data": {
            "text/plain": [
              "['id',\n",
              " 'gender',\n",
              " 'age',\n",
              " 'hypertension',\n",
              " 'heart_disease',\n",
              " 'ever_married',\n",
              " 'work_type',\n",
              " 'Residence_type',\n",
              " 'avg_glucose_level',\n",
              " 'bmi',\n",
              " 'smoking_status',\n",
              " 'stroke',\n",
              " 'gender_encoded',\n",
              " 'ever_married_encoded',\n",
              " 'work_type_encoded',\n",
              " 'Residence_type_encoded',\n",
              " 'smoking_status_encoded',\n",
              " 'genderVec',\n",
              " 'marriedVec',\n",
              " 'workVec',\n",
              " 'residenceVec',\n",
              " 'smokingVec',\n",
              " 'features']"
            ]
          },
          "metadata": {},
          "execution_count": 29
        }
      ]
    },
    {
      "cell_type": "code",
      "metadata": {
        "id": "8HUxhxp2zMnJ",
        "colab": {
          "base_uri": "https://localhost:8080/"
        },
        "outputId": "a9351eb7-1644-4f92-980b-71adfc26e0c9"
      },
      "source": [
        "# 6) Logistic Regression\n",
        "lr = LogisticRegression(labelCol=\"stroke\",featuresCol=\"features\", maxIter=100, regParam=0.3, )\n",
        "linearModel = lr.fit(train_data)\n",
        "regressionPrediction = linearModel.transform(test_data)\n",
        "acc_evaluator = MulticlassClassificationEvaluator(labelCol=\"stroke\", predictionCol=\"prediction\", metricName=\"accuracy\")\n",
        "accuracy = acc_evaluator.evaluate(regressionPrediction)\n",
        "print(f'Logistic Regression Accuracy: {accuracy*100}%')"
      ],
      "execution_count": 30,
      "outputs": [
        {
          "output_type": "stream",
          "name": "stdout",
          "text": [
            "Logistic Regression Accuracy: 94.30656934306569%\n"
          ]
        }
      ]
    }
  ]
}