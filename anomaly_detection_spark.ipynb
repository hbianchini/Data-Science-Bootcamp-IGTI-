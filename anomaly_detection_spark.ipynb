{
  "nbformat": 4,
  "nbformat_minor": 0,
  "metadata": {
    "name": "DeteccaoAnomalias",
    "notebookId": 1759944215487005,
    "application/vnd.databricks.v1+notebook": {
      "notebookName": "DeteccaoAnomalias",
      "dashboards": [],
      "notebookMetadata": {
        "pythonIndentUnit": 2
      },
      "language": "python",
      "widgets": {},
      "notebookOrigID": 1328493983004805
    },
    "colab": {
      "name": "anomaly-detection-spark-databricks.ipynb",
      "provenance": [],
      "collapsed_sections": []
    },
    "language_info": {
      "name": "python"
    },
    "kernelspec": {
      "name": "python3",
      "display_name": "Python 3"
    }
  },
  "cells": [
    {
      "cell_type": "code",
      "metadata": {
        "application/vnd.databricks.v1+cell": {
          "title": "",
          "showTitle": false,
          "inputWidgets": {},
          "nuid": "2e030b42-1c4a-4400-aeb1-32511da40470"
        },
        "id": "_0ZpumNUx9UY"
      },
      "source": [
        "# Example 1: learning about spark and anomaly detection of a temperature dataset.\n",
        "# Dataset: datasets/temperature.csv\n",
        "# Author: Humberto Bianchini"
      ],
      "execution_count": 1,
      "outputs": []
    },
    {
      "cell_type": "code",
      "metadata": {
        "application/vnd.databricks.v1+cell": {
          "title": "",
          "showTitle": false,
          "inputWidgets": {},
          "nuid": "cd9d6d09-f93e-4c5f-a744-250f1ead1ea2"
        },
        "id": "jwif5P2Ax9Ue"
      },
      "source": [
        "# 1) Importing all necessary libraries and Spark session creation.\n",
        "import numpy as np\n",
        "import pandas as pd\n",
        "import matplotlib.pyplot as plt\n",
        "from pyspark.sql import SparkSession\n",
        "from pyspark.sql.functions import *\n",
        "from pyspark.sql.types import DoubleType, IntegerType\n",
        "spark = SparkSession.builder.appName(\"AnomalyDetection\").getOrCreate()"
      ],
      "execution_count": 2,
      "outputs": []
    },
    {
      "cell_type": "code",
      "metadata": {
        "application/vnd.databricks.v1+cell": {
          "title": "",
          "showTitle": false,
          "inputWidgets": {},
          "nuid": "2ff10f9d-8734-487a-a539-2dea7f19d091"
        },
        "colab": {
          "base_uri": "https://localhost:8080/"
        },
        "id": "FTbhPT_Dx9Uh",
        "outputId": "7e4e98ec-a8be-4766-9716-17a59c3e93a6"
      },
      "source": [
        "# 2) Reading and showing the first rows of the dataset.\n",
        "data = spark.read.format(\"csv\").options(header=\"true\", inferschema=\"true\").load(\"temperature.csv\")\n",
        "data.show(5, False)"
      ],
      "execution_count": 3,
      "outputs": [
        {
          "output_type": "stream",
          "name": "stdout",
          "text": [
            "+-------------------+-------------+-------------+-------------+-------------+-------------+-------------+-------------+-------------+-------------+-------------+-------------+-------------+-------------+-------------+-------------+-------------+-------------+-------------+-------------+-------------+-------------+-------------+-------------+-------------+-------------+-------------+-------------+-------------+-------------+-------------+-------------+-----------------+-------------+-----+---------+---------+\n",
            "|datetime           |Vancouver    |Portland     |San Francisco|Seattle      |Los Angeles  |San Diego    |Las Vegas    |Phoenix      |Albuquerque  |Denver       |San Antonio  |Dallas       |Houston      |Kansas City  |Minneapolis  |Saint Louis  |Chicago      |Nashville    |Indianapolis |Atlanta      |Detroit      |Jacksonville |Charlotte    |Miami        |Pittsburgh   |Toronto      |Philadelphia |New York     |Montreal     |Boston       |Beersheba    |Tel Aviv District|Eilat        |Haifa|Nahariyya|Jerusalem|\n",
            "+-------------------+-------------+-------------+-------------+-------------+-------------+-------------+-------------+-------------+-------------+-------------+-------------+-------------+-------------+-------------+-------------+-------------+-------------+-------------+-------------+-------------+-------------+-------------+-------------+-------------+-------------+-------------+-------------+-------------+-------------+-------------+-------------+-----------------+-------------+-----+---------+---------+\n",
            "|2012-10-01 12:00:00|null         |null         |null         |null         |null         |null         |null         |null         |null         |null         |null         |null         |null         |null         |null         |null         |null         |null         |null         |null         |null         |null         |null         |null         |null         |null         |null         |null         |null         |null         |null         |null             |309.1        |null |null     |null     |\n",
            "|2012-10-01 13:00:00|284.63       |282.08       |289.48       |281.8        |291.87       |291.53       |293.41       |296.6        |285.12       |284.61       |289.29       |289.74       |288.27       |289.98       |286.87       |286.18       |284.01       |287.41       |283.85       |294.03       |284.03       |298.17       |288.65       |299.72       |281.0        |286.26       |285.63       |288.22       |285.83       |287.17       |307.59       |305.47           |310.58       |304.4|304.4    |303.5    |\n",
            "|2012-10-01 14:00:00|284.62904131 |282.083251974|289.474992813|281.797216632|291.868185522|291.533500952|293.403141271|296.608508543|285.154558187|284.607305531|289.303648787|289.762974207|288.297575758|289.997635363|286.893635588|286.185246029|284.054690974|287.42136028 |283.889393939|294.03534141 |284.069789234|298.205229759|288.650172214|299.732517698|281.024767377|286.262540958|285.663207797|288.24767617 |285.834649953|287.186092094|307.59       |304.31           |310.495769231|304.4|304.4    |303.5    |\n",
            "|2012-10-01 15:00:00|284.626997923|282.091866475|289.460618112|281.789832606|291.862844459|291.543355079|293.392177052|296.631487354|285.233951595|284.5999178  |289.338496754|289.830766948|288.334343434|290.038150556|286.951400772|286.199194111|284.177412183|287.454636935|283.941919192|294.049702185|284.173964682|298.299595186|288.650581705|299.76657946 |281.088318736|286.269518418|285.756824139|288.326939663|285.847789539|287.23167159 |307.391512749|304.281841331    |310.411538462|304.4|304.4    |303.5    |\n",
            "|2012-10-01 16:00:00|284.624954535|282.100480976|289.446243412|281.78244858 |291.857503395|291.553209206|293.381212832|296.654466164|285.313345004|284.59253007 |289.373344722|289.89855969 |288.371111111|290.07866575 |287.009165955|286.213142193|284.300133393|287.48791359 |283.994444444|294.064062959|284.278140131|298.393960613|288.650991196|299.800641223|281.151870096|286.276495879|285.85044048 |288.406203155|285.860929124|287.277251086|307.145199718|304.238014609    |310.327307692|304.4|304.4    |303.5    |\n",
            "+-------------------+-------------+-------------+-------------+-------------+-------------+-------------+-------------+-------------+-------------+-------------+-------------+-------------+-------------+-------------+-------------+-------------+-------------+-------------+-------------+-------------+-------------+-------------+-------------+-------------+-------------+-------------+-------------+-------------+-------------+-------------+-------------+-----------------+-------------+-----+---------+---------+\n",
            "only showing top 5 rows\n",
            "\n"
          ]
        }
      ]
    },
    {
      "cell_type": "code",
      "metadata": {
        "application/vnd.databricks.v1+cell": {
          "title": "",
          "showTitle": false,
          "inputWidgets": {},
          "nuid": "a324986d-e7aa-4a63-beee-afcc5c4f7df8"
        },
        "colab": {
          "base_uri": "https://localhost:8080/"
        },
        "id": "YEvWXcRix9Ui",
        "outputId": "4fb43086-d7d0-4766-d4f3-9b47248e0e70"
      },
      "source": [
        "# 3) Showing the dataset columns.\n",
        "data.columns"
      ],
      "execution_count": 4,
      "outputs": [
        {
          "output_type": "execute_result",
          "data": {
            "text/plain": [
              "['datetime',\n",
              " 'Vancouver',\n",
              " 'Portland',\n",
              " 'San Francisco',\n",
              " 'Seattle',\n",
              " 'Los Angeles',\n",
              " 'San Diego',\n",
              " 'Las Vegas',\n",
              " 'Phoenix',\n",
              " 'Albuquerque',\n",
              " 'Denver',\n",
              " 'San Antonio',\n",
              " 'Dallas',\n",
              " 'Houston',\n",
              " 'Kansas City',\n",
              " 'Minneapolis',\n",
              " 'Saint Louis',\n",
              " 'Chicago',\n",
              " 'Nashville',\n",
              " 'Indianapolis',\n",
              " 'Atlanta',\n",
              " 'Detroit',\n",
              " 'Jacksonville',\n",
              " 'Charlotte',\n",
              " 'Miami',\n",
              " 'Pittsburgh',\n",
              " 'Toronto',\n",
              " 'Philadelphia',\n",
              " 'New York',\n",
              " 'Montreal',\n",
              " 'Boston',\n",
              " 'Beersheba',\n",
              " 'Tel Aviv District',\n",
              " 'Eilat',\n",
              " 'Haifa',\n",
              " 'Nahariyya',\n",
              " 'Jerusalem']"
            ]
          },
          "metadata": {},
          "execution_count": 4
        }
      ]
    },
    {
      "cell_type": "code",
      "metadata": {
        "application/vnd.databricks.v1+cell": {
          "title": "",
          "showTitle": false,
          "inputWidgets": {},
          "nuid": "6c3d04d4-5f7e-4d7e-a687-4158915ddcb5"
        },
        "colab": {
          "base_uri": "https://localhost:8080/"
        },
        "id": "lGyNgTepx9Uj",
        "outputId": "ecde8028-1d1b-4795-e8b7-b8b6931a2370"
      },
      "source": [
        "# 4) Showing the dataset rows count.\n",
        "data.count()"
      ],
      "execution_count": 5,
      "outputs": [
        {
          "output_type": "execute_result",
          "data": {
            "text/plain": [
              "45253"
            ]
          },
          "metadata": {},
          "execution_count": 5
        }
      ]
    },
    {
      "cell_type": "code",
      "metadata": {
        "application/vnd.databricks.v1+cell": {
          "title": "",
          "showTitle": false,
          "inputWidgets": {},
          "nuid": "9f77610d-cad4-4aab-b5c5-76f17e577465"
        },
        "colab": {
          "base_uri": "https://localhost:8080/"
        },
        "id": "aKwpKzQmx9Ul",
        "outputId": "13d37d39-49f0-4509-c900-133e8c979909"
      },
      "source": [
        "# 5) Choosing one city to analysis (Vancouver in this example) and showing the details.\n",
        "dataAnalysis = data.select('datetime','Vancouver')\n",
        "dataAnalysis.show(5)"
      ],
      "execution_count": 6,
      "outputs": [
        {
          "output_type": "stream",
          "name": "stdout",
          "text": [
            "+-------------------+-------------+\n",
            "|           datetime|    Vancouver|\n",
            "+-------------------+-------------+\n",
            "|2012-10-01 12:00:00|         null|\n",
            "|2012-10-01 13:00:00|       284.63|\n",
            "|2012-10-01 14:00:00| 284.62904131|\n",
            "|2012-10-01 15:00:00|284.626997923|\n",
            "|2012-10-01 16:00:00|284.624954535|\n",
            "+-------------------+-------------+\n",
            "only showing top 5 rows\n",
            "\n"
          ]
        }
      ]
    },
    {
      "cell_type": "code",
      "metadata": {
        "application/vnd.databricks.v1+cell": {
          "title": "",
          "showTitle": false,
          "inputWidgets": {},
          "nuid": "a45e0071-afff-4639-a19a-365fdf7928c0"
        },
        "colab": {
          "base_uri": "https://localhost:8080/"
        },
        "id": "C-qQN2UNx9Un",
        "outputId": "5ff60d53-d385-4fa6-8b8c-d0c02b4daa0d"
      },
      "source": [
        "# 6) Filtering only data that don't have null values.\n",
        "dataNotNull = dataAnalysis.filter(col('Vancouver').isNotNull())\n",
        "dataNotNull.show(5)"
      ],
      "execution_count": 7,
      "outputs": [
        {
          "output_type": "stream",
          "name": "stdout",
          "text": [
            "+-------------------+-------------+\n",
            "|           datetime|    Vancouver|\n",
            "+-------------------+-------------+\n",
            "|2012-10-01 13:00:00|       284.63|\n",
            "|2012-10-01 14:00:00| 284.62904131|\n",
            "|2012-10-01 15:00:00|284.626997923|\n",
            "|2012-10-01 16:00:00|284.624954535|\n",
            "|2012-10-01 17:00:00|284.622911147|\n",
            "+-------------------+-------------+\n",
            "only showing top 5 rows\n",
            "\n"
          ]
        }
      ]
    },
    {
      "cell_type": "code",
      "metadata": {
        "application/vnd.databricks.v1+cell": {
          "title": "",
          "showTitle": false,
          "inputWidgets": {},
          "nuid": "39b55694-cecb-4911-9ed2-e5e817abc637"
        },
        "colab": {
          "base_uri": "https://localhost:8080/"
        },
        "id": "_5Ztwqmsx9Up",
        "outputId": "140187a1-ddd3-4cca-9caa-6ee9454c629f"
      },
      "source": [
        "# 7) Inserting index for the data.\n",
        "df_plots = dataNotNull.withColumn(\"index\", monotonically_increasing_id())\n",
        "df_plots.show(5)"
      ],
      "execution_count": 8,
      "outputs": [
        {
          "output_type": "stream",
          "name": "stdout",
          "text": [
            "+-------------------+-------------+-----+\n",
            "|           datetime|    Vancouver|index|\n",
            "+-------------------+-------------+-----+\n",
            "|2012-10-01 13:00:00|       284.63|    0|\n",
            "|2012-10-01 14:00:00| 284.62904131|    1|\n",
            "|2012-10-01 15:00:00|284.626997923|    2|\n",
            "|2012-10-01 16:00:00|284.624954535|    3|\n",
            "|2012-10-01 17:00:00|284.622911147|    4|\n",
            "+-------------------+-------------+-----+\n",
            "only showing top 5 rows\n",
            "\n"
          ]
        }
      ]
    },
    {
      "cell_type": "code",
      "metadata": {
        "application/vnd.databricks.v1+cell": {
          "title": "",
          "showTitle": false,
          "inputWidgets": {},
          "nuid": "6ee65e70-d61d-4d31-bd26-0331d41c1abf"
        },
        "colab": {
          "base_uri": "https://localhost:8080/"
        },
        "id": "V4i5UIdUx9Ur",
        "outputId": "63e8e29b-5aa2-42c3-8790-b889e5efe793"
      },
      "source": [
        "# 8) Calculating the \"Mean\" and \"Standard Deviation\" of data.\n",
        "list_stats = dataNotNull.select(avg(col('Vancouver')).alias('mean'),stddev(col('Vancouver')).alias('stdDev')).collect()\n",
        "mean = list_stats[0]['mean']\n",
        "dev = list_stats[0]['stdDev']\n",
        "print(f\"Mean: {mean}\")\n",
        "print(f\"Standard deviation: {dev}\")"
      ],
      "execution_count": 9,
      "outputs": [
        {
          "output_type": "stream",
          "name": "stdout",
          "text": [
            "Mean: 283.8626537415422\n",
            "Standard deviation: 6.64013061677093\n"
          ]
        }
      ]
    },
    {
      "cell_type": "code",
      "metadata": {
        "application/vnd.databricks.v1+cell": {
          "title": "",
          "showTitle": false,
          "inputWidgets": {},
          "nuid": "0b507cd5-c590-4c95-9a42-1bfc3fe8c82d"
        },
        "colab": {
          "base_uri": "https://localhost:8080/"
        },
        "id": "0CHYI6A6x9Ut",
        "outputId": "27555e3e-2921-4119-a65b-e2bd166e1791"
      },
      "source": [
        "# 9) Creating a new dataframe with the stats.\n",
        "\n",
        "df_stats = dataNotNull.select(avg('Vancouver').alias('mean'), stddev('Vancouver').alias('stdDev'))\n",
        "df_stats.show()"
      ],
      "execution_count": 10,
      "outputs": [
        {
          "output_type": "stream",
          "name": "stdout",
          "text": [
            "+-----------------+----------------+\n",
            "|             mean|          stdDev|\n",
            "+-----------------+----------------+\n",
            "|283.8626537415422|6.64013061677093|\n",
            "+-----------------+----------------+\n",
            "\n"
          ]
        }
      ]
    },
    {
      "cell_type": "code",
      "metadata": {
        "application/vnd.databricks.v1+cell": {
          "title": "",
          "showTitle": false,
          "inputWidgets": {},
          "nuid": "5f8d8ad2-6703-48aa-9d8c-4c8a9fd4c2f2"
        },
        "colab": {
          "base_uri": "https://localhost:8080/"
        },
        "id": "9nzWFSNAx9Uv",
        "outputId": "2ee6a4ca-18ca-4971-e595-baa879b39a62"
      },
      "source": [
        "# 10) Describing the dataset\n",
        "dataNotNull.describe().show()"
      ],
      "execution_count": 11,
      "outputs": [
        {
          "output_type": "stream",
          "name": "stdout",
          "text": [
            "+-------+-------------------+-----------------+\n",
            "|summary|           datetime|        Vancouver|\n",
            "+-------+-------------------+-----------------+\n",
            "|  count|              44458|            44458|\n",
            "|   mean|               null|283.8626537415422|\n",
            "| stddev|               null| 6.64013061677093|\n",
            "|    min|2012-10-01 13:00:00|           245.15|\n",
            "|    max|2017-10-28 00:00:00|            307.0|\n",
            "+-------+-------------------+-----------------+\n",
            "\n"
          ]
        }
      ]
    },
    {
      "cell_type": "code",
      "metadata": {
        "application/vnd.databricks.v1+cell": {
          "title": "",
          "showTitle": false,
          "inputWidgets": {},
          "nuid": "d58033c4-96ae-49d2-878c-2a406b93c2ac"
        },
        "id": "_z4sqX5tx9Uw"
      },
      "source": [
        "# 11) Setting two functions to calculate anomalies.\n",
        "\n",
        "def distance(x):\n",
        "  mean = 283.8626\n",
        "  dev = 6.6401\n",
        "  return ((x - mean)/dev)\n",
        "\n",
        "\n",
        "def anomalies(x):\n",
        "  dev = 6.6401\n",
        "  if (x > 2):\n",
        "    return 1\n",
        "  else:\n",
        "    return 0\n",
        "\n",
        "  \n",
        "\n",
        "distance_udf_double = udf(lambda z: distance(z), DoubleType())\n",
        "anomalies_udf_int = udf(lambda z: anomalies(z), IntegerType())"
      ],
      "execution_count": 12,
      "outputs": []
    },
    {
      "cell_type": "code",
      "metadata": {
        "application/vnd.databricks.v1+cell": {
          "title": "",
          "showTitle": false,
          "inputWidgets": {},
          "nuid": "d7d97b47-e211-4b79-8925-6668637e96c8"
        },
        "colab": {
          "base_uri": "https://localhost:8080/"
        },
        "id": "5NTXIo3Tx9Ux",
        "outputId": "643a8209-d8c4-46ab-e39b-6ec7bc55a639"
      },
      "source": [
        "# 12) Calculating the distances between a temperature value and the mean.\n",
        "data_new = dataNotNull.select('Vancouver',distance_udf_double('Vancouver').alias('distance'))\n",
        "data_new.show(5)"
      ],
      "execution_count": 13,
      "outputs": [
        {
          "output_type": "stream",
          "name": "stdout",
          "text": [
            "+-------------+-------------------+\n",
            "|    Vancouver|           distance|\n",
            "+-------------+-------------------+\n",
            "|       284.63|0.11557054863631709|\n",
            "| 284.62904131|0.11542616978660031|\n",
            "|284.626997923|0.11511843541512777|\n",
            "|284.624954535| 0.1148107008930567|\n",
            "|284.622911147|0.11450296637099419|\n",
            "+-------------+-------------------+\n",
            "only showing top 5 rows\n",
            "\n"
          ]
        }
      ]
    },
    {
      "cell_type": "code",
      "metadata": {
        "application/vnd.databricks.v1+cell": {
          "title": "",
          "showTitle": false,
          "inputWidgets": {},
          "nuid": "e62ff3a1-eaa9-4e89-826d-3ce2a604541e"
        },
        "colab": {
          "base_uri": "https://localhost:8080/"
        },
        "id": "5DU3cGozx9Uy",
        "outputId": "f69ff7d3-89eb-48fe-b258-d09f763259a1"
      },
      "source": [
        "from pyspark.sql.functions import abs\n",
        "data_new=data_new.select('Vancouver','distance', abs(col('distance')).alias(\"ABSdistance\"))\n",
        "data_new.show(5)"
      ],
      "execution_count": 14,
      "outputs": [
        {
          "output_type": "stream",
          "name": "stdout",
          "text": [
            "+-------------+-------------------+-------------------+\n",
            "|    Vancouver|           distance|        ABSdistance|\n",
            "+-------------+-------------------+-------------------+\n",
            "|       284.63|0.11557054863631709|0.11557054863631709|\n",
            "| 284.62904131|0.11542616978660031|0.11542616978660031|\n",
            "|284.626997923|0.11511843541512777|0.11511843541512777|\n",
            "|284.624954535| 0.1148107008930567| 0.1148107008930567|\n",
            "|284.622911147|0.11450296637099419|0.11450296637099419|\n",
            "+-------------+-------------------+-------------------+\n",
            "only showing top 5 rows\n",
            "\n"
          ]
        }
      ]
    },
    {
      "cell_type": "code",
      "metadata": {
        "application/vnd.databricks.v1+cell": {
          "title": "",
          "showTitle": false,
          "inputWidgets": {},
          "nuid": "5c433893-df32-4d1e-9963-368504885a3c"
        },
        "colab": {
          "base_uri": "https://localhost:8080/"
        },
        "id": "vtot9n3Ux9U0",
        "outputId": "554a74f7-934b-4ebd-c0f9-78520f812ae6"
      },
      "source": [
        "data_new = data_new.select('Vancouver','distance', \"ABSdistance\", anomalies_udf_int(\"ABSdistance\").alias(\"isAnomaly\"))\n",
        "data_new.show(10)"
      ],
      "execution_count": 15,
      "outputs": [
        {
          "output_type": "stream",
          "name": "stdout",
          "text": [
            "+-------------+-------------------+-------------------+---------+\n",
            "|    Vancouver|           distance|        ABSdistance|isAnomaly|\n",
            "+-------------+-------------------+-------------------+---------+\n",
            "|       284.63|0.11557054863631709|0.11557054863631709|        0|\n",
            "| 284.62904131|0.11542616978660031|0.11542616978660031|        0|\n",
            "|284.626997923|0.11511843541512777|0.11511843541512777|        0|\n",
            "|284.624954535| 0.1148107008930567| 0.1148107008930567|        0|\n",
            "|284.622911147|0.11450296637099419|0.11450296637099419|        0|\n",
            "|284.620867759| 0.1141952318489231| 0.1141952318489231|        0|\n",
            "|284.618824371|0.11388749732685204|0.11388749732685204|        0|\n",
            "|284.616780983|0.11357976280478096|0.11357976280478096|        0|\n",
            "|284.614737595| 0.1132720282827099| 0.1132720282827099|        0|\n",
            "|284.612694207|0.11296429376063881|0.11296429376063881|        0|\n",
            "+-------------+-------------------+-------------------+---------+\n",
            "only showing top 10 rows\n",
            "\n"
          ]
        }
      ]
    },
    {
      "cell_type": "code",
      "metadata": {
        "application/vnd.databricks.v1+cell": {
          "title": "",
          "showTitle": false,
          "inputWidgets": {},
          "nuid": "46e6cac8-c0ce-49c1-bb68-643e0e9571f1"
        },
        "colab": {
          "base_uri": "https://localhost:8080/"
        },
        "id": "xxI_HiWrx9U1",
        "outputId": "d82a81fc-f15e-449b-87e1-26ed45cc2777"
      },
      "source": [
        "# 13) Showing the found anomalies.\n",
        "data_new.filter(col(\"isAnomaly\")>0).show(10)"
      ],
      "execution_count": 16,
      "outputs": [
        {
          "output_type": "stream",
          "name": "stdout",
          "text": [
            "+---------+-------------------+------------------+---------+\n",
            "|Vancouver|           distance|       ABSdistance|isAnomaly|\n",
            "+---------+-------------------+------------------+---------+\n",
            "|   270.42|-2.0244574629900107|2.0244574629900107|        1|\n",
            "|   269.81|-2.1163235493441337|2.1163235493441337|        1|\n",
            "|   269.65| -2.140419571994399| 2.140419571994399|        1|\n",
            "|   269.67|-2.1374075691631105|2.1374075691631105|        1|\n",
            "|   269.67|-2.1374075691631105|2.1374075691631105|        1|\n",
            "|   270.52|-2.0093974488336026|2.0093974488336026|        1|\n",
            "|   269.15|-2.2157196427764654|2.2157196427764654|        1|\n",
            "|   267.15|-2.5169199259047317|2.5169199259047317|        1|\n",
            "|   266.15| -2.667520067468865| 2.667520067468865|        1|\n",
            "|   266.15| -2.667520067468865| 2.667520067468865|        1|\n",
            "+---------+-------------------+------------------+---------+\n",
            "only showing top 10 rows\n",
            "\n"
          ]
        }
      ]
    },
    {
      "cell_type": "code",
      "metadata": {
        "application/vnd.databricks.v1+cell": {
          "title": "",
          "showTitle": false,
          "inputWidgets": {},
          "nuid": "6acebb57-933a-428f-b0bc-bfdbc005b7be"
        },
        "colab": {
          "base_uri": "https://localhost:8080/",
          "height": 265
        },
        "id": "J-d56k3px9U3",
        "outputId": "44f9d8a1-4095-429f-a73a-1f9bd640555f"
      },
      "source": [
        "df = dataNotNull.toPandas()\n",
        "df.head()\n",
        "df['Vancouver'].plot(kind='hist', bins=20);"
      ],
      "execution_count": 17,
      "outputs": [
        {
          "output_type": "display_data",
          "data": {
            "image/png": "[encoded data removed]",
            "text/plain": [
              "<Figure size 432x288 with 1 Axes>"
            ]
          },
          "metadata": {
            "needs_background": "light"
          }
        }
      ]
    },
    {
      "cell_type": "code",
      "metadata": {
        "application/vnd.databricks.v1+cell": {
          "title": "",
          "showTitle": false,
          "inputWidgets": {},
          "nuid": "034ed643-6f4e-4aee-afcb-5bf297eb3f35"
        },
        "colab": {
          "base_uri": "https://localhost:8080/",
          "height": 269
        },
        "id": "tqaB2BXWx9U4",
        "outputId": "102a4f98-652c-49a9-c786-6cd04eded713"
      },
      "source": [
        "df['Vancouver'].plot(kind='box');"
      ],
      "execution_count": 18,
      "outputs": [
        {
          "output_type": "display_data",
          "data": {
            "image/png": "[encoded data removed]",
            "text/plain": [
              "<Figure size 432x288 with 1 Axes>"
            ]
          },
          "metadata": {
            "needs_background": "light"
          }
        }
      ]
    }
  ]
}