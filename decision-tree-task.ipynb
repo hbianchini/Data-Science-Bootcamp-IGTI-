{
  "nbformat": 4,
  "nbformat_minor": 0,
  "metadata": {
    "name": "dataPreparation",
    "notebookId": 2205451470308314,
    "colab": {
      "name": "dataPreparation.ipynb",
      "provenance": []
    },
    "language_info": {
      "name": "python"
    },
    "kernelspec": {
      "name": "python3",
      "display_name": "Python 3"
    }
  },
  "cells": [
    {
      "cell_type": "code",
      "metadata": {
        "id": "82qZMKPHMgdD"
      },
      "source": [
        "# Example: learning about dicision tree using Spark MLlib.\n",
        "# Dataset: datasets/iris_bezdekIris.csv\n",
        "# Author: Humberto Bianchini"
      ],
      "execution_count": 1,
      "outputs": []
    },
    {
      "cell_type": "code",
      "metadata": {
        "id": "pbElf7NsMgdS"
      },
      "source": [
        "# 1) Importing all necessary libraries and Spark session creation.\n",
        "from pyspark.ml.linalg import Vectors\n",
        "from pyspark.ml.feature import VectorAssembler\n",
        "from pyspark.sql import SparkSession\n",
        "from pyspark.ml.feature import StringIndexer\n",
        "from pyspark.ml.evaluation import MulticlassClassificationEvaluator\n",
        "from pyspark.ml.classification import DecisionTreeClassifier\n",
        "from pyspark.ml.classification import RandomForestClassifier\n",
        "\n",
        "spark = SparkSession.builder.appName(\"Decision Tree\").getOrCreate()"
      ],
      "execution_count": 2,
      "outputs": []
    },
    {
      "cell_type": "code",
      "metadata": {
        "id": "xCbYd8dUMgdi",
        "colab": {
          "base_uri": "https://localhost:8080/"
        },
        "outputId": "5af1c762-51fe-452b-e385-a456853173a3"
      },
      "source": [
        "# 2) Reading and showing the details of dataset.\n",
        "df_iris = spark.read.format(\"csv\").options(inferSchema=True, header='false', delimiter=',').load(\"iris_bezdekIris.csv\")\n",
        "df_iris = df_iris.selectExpr(\"_c0 as sep_len\", \"_c1 as sep_wid\", \"_c2 as pet_len\", \"_c3 as pet_wid\", \"_c4 as label\")\n",
        "df_iris.printSchema()"
      ],
      "execution_count": 3,
      "outputs": [
        {
          "output_type": "stream",
          "name": "stdout",
          "text": [
            "root\n",
            " |-- sep_len: double (nullable = true)\n",
            " |-- sep_wid: double (nullable = true)\n",
            " |-- pet_len: double (nullable = true)\n",
            " |-- pet_wid: double (nullable = true)\n",
            " |-- label: string (nullable = true)\n",
            "\n"
          ]
        }
      ]
    },
    {
      "cell_type": "code",
      "metadata": {
        "colab": {
          "base_uri": "https://localhost:8080/"
        },
        "id": "vA0xW3qaMgdj",
        "outputId": "5681b88d-3053-4a63-cd00-f843cd50e845"
      },
      "source": [
        "df_iris.show(10)"
      ],
      "execution_count": 4,
      "outputs": [
        {
          "output_type": "stream",
          "name": "stdout",
          "text": [
            "+-------+-------+-------+-------+-----------+\n",
            "|sep_len|sep_wid|pet_len|pet_wid|      label|\n",
            "+-------+-------+-------+-------+-----------+\n",
            "|    5.1|    3.5|    1.4|    0.2|Iris-setosa|\n",
            "|    4.9|    3.0|    1.4|    0.2|Iris-setosa|\n",
            "|    4.7|    3.2|    1.3|    0.2|Iris-setosa|\n",
            "|    4.6|    3.1|    1.5|    0.2|Iris-setosa|\n",
            "|    5.0|    3.6|    1.4|    0.2|Iris-setosa|\n",
            "|    5.4|    3.9|    1.7|    0.4|Iris-setosa|\n",
            "|    4.6|    3.4|    1.4|    0.3|Iris-setosa|\n",
            "|    5.0|    3.4|    1.5|    0.2|Iris-setosa|\n",
            "|    4.4|    2.9|    1.4|    0.2|Iris-setosa|\n",
            "|    4.9|    3.1|    1.5|    0.1|Iris-setosa|\n",
            "+-------+-------+-------+-------+-----------+\n",
            "only showing top 10 rows\n",
            "\n"
          ]
        }
      ]
    },
    {
      "cell_type": "code",
      "metadata": {
        "colab": {
          "base_uri": "https://localhost:8080/"
        },
        "id": "a67Ow83lMgdm",
        "outputId": "d7e7e466-3315-49d8-ec5a-9d00a717455a"
      },
      "source": [
        "df_iris.describe().show()"
      ],
      "execution_count": 5,
      "outputs": [
        {
          "output_type": "stream",
          "name": "stdout",
          "text": [
            "+-------+------------------+-------------------+------------------+------------------+--------------+\n",
            "|summary|           sep_len|            sep_wid|           pet_len|           pet_wid|         label|\n",
            "+-------+------------------+-------------------+------------------+------------------+--------------+\n",
            "|  count|               150|                150|               150|               150|           150|\n",
            "|   mean| 5.843333333333335|  3.057333333333334|3.7580000000000027| 1.199333333333334|          null|\n",
            "| stddev|0.8280661279778637|0.43586628493669793|1.7652982332594662|0.7622376689603467|          null|\n",
            "|    min|               4.3|                2.0|               1.0|               0.1|   Iris-setosa|\n",
            "|    max|               7.9|                4.4|               6.9|               2.5|Iris-virginica|\n",
            "+-------+------------------+-------------------+------------------+------------------+--------------+\n",
            "\n"
          ]
        }
      ]
    },
    {
      "cell_type": "code",
      "metadata": {
        "colab": {
          "base_uri": "https://localhost:8080/"
        },
        "id": "yk1KriyIG1RY",
        "outputId": "d0b62245-f564-4c03-8974-270b37fa5ace"
      },
      "source": [
        "# 3) Starting of the decision tree construction and application process\n",
        "vector_assembler = VectorAssembler(inputCols=['sep_len', 'sep_wid', 'pet_len', 'pet_wid'], outputCol='features')\n",
        "df_temp = vector_assembler.transform(df_iris)\n",
        "df_temp.show(10)"
      ],
      "execution_count": 6,
      "outputs": [
        {
          "output_type": "stream",
          "name": "stdout",
          "text": [
            "+-------+-------+-------+-------+-----------+-----------------+\n",
            "|sep_len|sep_wid|pet_len|pet_wid|      label|         features|\n",
            "+-------+-------+-------+-------+-----------+-----------------+\n",
            "|    5.1|    3.5|    1.4|    0.2|Iris-setosa|[5.1,3.5,1.4,0.2]|\n",
            "|    4.9|    3.0|    1.4|    0.2|Iris-setosa|[4.9,3.0,1.4,0.2]|\n",
            "|    4.7|    3.2|    1.3|    0.2|Iris-setosa|[4.7,3.2,1.3,0.2]|\n",
            "|    4.6|    3.1|    1.5|    0.2|Iris-setosa|[4.6,3.1,1.5,0.2]|\n",
            "|    5.0|    3.6|    1.4|    0.2|Iris-setosa|[5.0,3.6,1.4,0.2]|\n",
            "|    5.4|    3.9|    1.7|    0.4|Iris-setosa|[5.4,3.9,1.7,0.4]|\n",
            "|    4.6|    3.4|    1.4|    0.3|Iris-setosa|[4.6,3.4,1.4,0.3]|\n",
            "|    5.0|    3.4|    1.5|    0.2|Iris-setosa|[5.0,3.4,1.5,0.2]|\n",
            "|    4.4|    2.9|    1.4|    0.2|Iris-setosa|[4.4,2.9,1.4,0.2]|\n",
            "|    4.9|    3.1|    1.5|    0.1|Iris-setosa|[4.9,3.1,1.5,0.1]|\n",
            "+-------+-------+-------+-------+-----------+-----------------+\n",
            "only showing top 10 rows\n",
            "\n"
          ]
        }
      ]
    },
    {
      "cell_type": "code",
      "metadata": {
        "colab": {
          "base_uri": "https://localhost:8080/"
        },
        "id": "arrKZbQyJ-WG",
        "outputId": "dba42bba-bcdf-4b23-c640-874a1886338c"
      },
      "source": [
        "df_mini = df_temp.drop('sep_len', 'sep_wid', 'pet_len', 'pet_wid')\n",
        "df_mini.show(10)"
      ],
      "execution_count": 7,
      "outputs": [
        {
          "output_type": "stream",
          "name": "stdout",
          "text": [
            "+-----------+-----------------+\n",
            "|      label|         features|\n",
            "+-----------+-----------------+\n",
            "|Iris-setosa|[5.1,3.5,1.4,0.2]|\n",
            "|Iris-setosa|[4.9,3.0,1.4,0.2]|\n",
            "|Iris-setosa|[4.7,3.2,1.3,0.2]|\n",
            "|Iris-setosa|[4.6,3.1,1.5,0.2]|\n",
            "|Iris-setosa|[5.0,3.6,1.4,0.2]|\n",
            "|Iris-setosa|[5.4,3.9,1.7,0.4]|\n",
            "|Iris-setosa|[4.6,3.4,1.4,0.3]|\n",
            "|Iris-setosa|[5.0,3.4,1.5,0.2]|\n",
            "|Iris-setosa|[4.4,2.9,1.4,0.2]|\n",
            "|Iris-setosa|[4.9,3.1,1.5,0.1]|\n",
            "+-----------+-----------------+\n",
            "only showing top 10 rows\n",
            "\n"
          ]
        }
      ]
    },
    {
      "cell_type": "code",
      "metadata": {
        "colab": {
          "base_uri": "https://localhost:8080/"
        },
        "id": "UJWzcQHLKbfc",
        "outputId": "e5ec268e-ec70-40a4-be2c-97e8fb39db4f"
      },
      "source": [
        "l_indexer = StringIndexer(inputCol=\"label\", outputCol=\"labelIndex\")\n",
        "df_final = l_indexer.fit(df_mini).transform(df_mini)\n",
        "df_final.show(10)"
      ],
      "execution_count": 8,
      "outputs": [
        {
          "output_type": "stream",
          "name": "stdout",
          "text": [
            "+-----------+-----------------+----------+\n",
            "|      label|         features|labelIndex|\n",
            "+-----------+-----------------+----------+\n",
            "|Iris-setosa|[5.1,3.5,1.4,0.2]|       0.0|\n",
            "|Iris-setosa|[4.9,3.0,1.4,0.2]|       0.0|\n",
            "|Iris-setosa|[4.7,3.2,1.3,0.2]|       0.0|\n",
            "|Iris-setosa|[4.6,3.1,1.5,0.2]|       0.0|\n",
            "|Iris-setosa|[5.0,3.6,1.4,0.2]|       0.0|\n",
            "|Iris-setosa|[5.4,3.9,1.7,0.4]|       0.0|\n",
            "|Iris-setosa|[4.6,3.4,1.4,0.3]|       0.0|\n",
            "|Iris-setosa|[5.0,3.4,1.5,0.2]|       0.0|\n",
            "|Iris-setosa|[4.4,2.9,1.4,0.2]|       0.0|\n",
            "|Iris-setosa|[4.9,3.1,1.5,0.1]|       0.0|\n",
            "+-----------+-----------------+----------+\n",
            "only showing top 10 rows\n",
            "\n"
          ]
        }
      ]
    },
    {
      "cell_type": "code",
      "metadata": {
        "colab": {
          "base_uri": "https://localhost:8080/"
        },
        "id": "mTX5pQZ2LA3S",
        "outputId": "8fafb093-6cd1-4f21-c6e3-3cba788ab977"
      },
      "source": [
        "(train, test) = df_final.randomSplit([0.7, 0.3])\n",
        "test.show(5)\n",
        "train.show(5)"
      ],
      "execution_count": 9,
      "outputs": [
        {
          "output_type": "stream",
          "name": "stdout",
          "text": [
            "+-----------+-----------------+----------+\n",
            "|      label|         features|labelIndex|\n",
            "+-----------+-----------------+----------+\n",
            "|Iris-setosa|[4.3,3.0,1.1,0.1]|       0.0|\n",
            "|Iris-setosa|[4.6,3.1,1.5,0.2]|       0.0|\n",
            "|Iris-setosa|[4.8,3.0,1.4,0.1]|       0.0|\n",
            "|Iris-setosa|[4.8,3.0,1.4,0.3]|       0.0|\n",
            "|Iris-setosa|[4.8,3.1,1.6,0.2]|       0.0|\n",
            "+-----------+-----------------+----------+\n",
            "only showing top 5 rows\n",
            "\n",
            "+-----------+-----------------+----------+\n",
            "|      label|         features|labelIndex|\n",
            "+-----------+-----------------+----------+\n",
            "|Iris-setosa|[4.4,2.9,1.4,0.2]|       0.0|\n",
            "|Iris-setosa|[4.4,3.0,1.3,0.2]|       0.0|\n",
            "|Iris-setosa|[4.4,3.2,1.3,0.2]|       0.0|\n",
            "|Iris-setosa|[4.5,2.3,1.3,0.3]|       0.0|\n",
            "|Iris-setosa|[4.6,3.2,1.4,0.2]|       0.0|\n",
            "+-----------+-----------------+----------+\n",
            "only showing top 5 rows\n",
            "\n"
          ]
        }
      ]
    },
    {
      "cell_type": "code",
      "metadata": {
        "id": "ABtwqAg0RBlq"
      },
      "source": [
        "# 4) Training our model.\n",
        "treeModel = DecisionTreeClassifier(labelCol=\"labelIndex\", featuresCol=\"features\")\n",
        "model = treeModel.fit(train)"
      ],
      "execution_count": 10,
      "outputs": []
    },
    {
      "cell_type": "code",
      "metadata": {
        "colab": {
          "base_uri": "https://localhost:8080/"
        },
        "id": "869T_J7nRkT5",
        "outputId": "d9faeac3-4cc0-4c6b-d43e-ff75450ce3dd"
      },
      "source": [
        "# 5) Predicting the values.\n",
        "prediction = model.transform(test)\n",
        "prediction.select(\"prediction\", \"labelIndex\").show(5)"
      ],
      "execution_count": 11,
      "outputs": [
        {
          "output_type": "stream",
          "name": "stdout",
          "text": [
            "+----------+----------+\n",
            "|prediction|labelIndex|\n",
            "+----------+----------+\n",
            "|       0.0|       0.0|\n",
            "|       0.0|       0.0|\n",
            "|       0.0|       0.0|\n",
            "|       0.0|       0.0|\n",
            "|       0.0|       0.0|\n",
            "+----------+----------+\n",
            "only showing top 5 rows\n",
            "\n"
          ]
        }
      ]
    },
    {
      "cell_type": "code",
      "metadata": {
        "colab": {
          "base_uri": "https://localhost:8080/"
        },
        "id": "l7_17N70ScOv",
        "outputId": "aacd3615-eb6d-41bc-f358-ebb2193c9214"
      },
      "source": [
        "# 6) Calculating accuracy of the model.\n",
        "evaluation = MulticlassClassificationEvaluator(labelCol=\"labelIndex\", predictionCol=\"prediction\", metricName=\"accuracy\")\n",
        "accuracy = evaluation.evaluate(prediction)\n",
        "print(f\"Accuracy of the model: {accuracy}\")"
      ],
      "execution_count": 12,
      "outputs": [
        {
          "output_type": "stream",
          "name": "stdout",
          "text": [
            "Accuracy of the model: 0.875\n"
          ]
        }
      ]
    },
    {
      "cell_type": "code",
      "metadata": {
        "id": "nAkNFrU8aD6s"
      },
      "source": [
        "# 7) Using Random Forest Classifier\n",
        "modelRF = RandomForestClassifier(labelCol=\"labelIndex\", featuresCol=\"features\", numTrees=10)\n",
        "model = modelRF.fit(train)"
      ],
      "execution_count": 13,
      "outputs": []
    },
    {
      "cell_type": "code",
      "metadata": {
        "colab": {
          "base_uri": "https://localhost:8080/"
        },
        "id": "OFMFaL7paxCK",
        "outputId": "9af73d92-5ec7-4ff8-f017-0f31f1fde069"
      },
      "source": [
        "prediction = model.transform(test)\n",
        "prediction.select(\"prediction\", \"labelIndex\").show(5)"
      ],
      "execution_count": 14,
      "outputs": [
        {
          "output_type": "stream",
          "name": "stdout",
          "text": [
            "+----------+----------+\n",
            "|prediction|labelIndex|\n",
            "+----------+----------+\n",
            "|       0.0|       0.0|\n",
            "|       0.0|       0.0|\n",
            "|       0.0|       0.0|\n",
            "|       0.0|       0.0|\n",
            "|       0.0|       0.0|\n",
            "+----------+----------+\n",
            "only showing top 5 rows\n",
            "\n"
          ]
        }
      ]
    },
    {
      "cell_type": "code",
      "metadata": {
        "colab": {
          "base_uri": "https://localhost:8080/"
        },
        "id": "nqUEm0MNbAW8",
        "outputId": "224d99ef-91c3-492b-f741-403536856c4c"
      },
      "source": [
        "evaluation = MulticlassClassificationEvaluator(labelCol=\"labelIndex\", predictionCol=\"prediction\", metricName=\"accuracy\")\n",
        "accuracy = evaluation.evaluate(prediction)\n",
        "print(f\"Accuracy of the model: {accuracy}\")"
      ],
      "execution_count": 15,
      "outputs": [
        {
          "output_type": "stream",
          "name": "stdout",
          "text": [
            "Accuracy of the model: 0.9375\n"
          ]
        }
      ]
    }
  ]
}
