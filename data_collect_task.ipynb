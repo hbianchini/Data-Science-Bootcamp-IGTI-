{
  "nbformat": 4,
  "nbformat_minor": 0,
  "metadata": {
    "colab": {
      "name": "data-collect-task.ipynb",
      "provenance": [],
      "collapsed_sections": []
    },
    "kernelspec": {
      "name": "python3",
      "display_name": "Python 3"
    },
    "language_info": {
      "name": "python"
    }
  },
  "cells": [
    {
      "cell_type": "code",
      "metadata": {
        "id": "BSmjCnm_lrIr"
      },
      "source": [
        "# Example 1: learning about data collect using a real Kaggle dataset.\n",
        "# Dataset: https://www.kaggle.com/gpreda/covid-world-vaccination-progress (Data Update: 2021/09/21)\n",
        "# Author: Humberto Bianchini"
      ],
      "execution_count": 1,
      "outputs": []
    },
    {
      "cell_type": "code",
      "metadata": {
        "id": "6-x984S4_dV2"
      },
      "source": [
        "# 1) Importing all necessary libraries.\n",
        "import pandas as pd\n",
        "import os"
      ],
      "execution_count": 2,
      "outputs": []
    },
    {
      "cell_type": "code",
      "metadata": {
        "colab": {
          "base_uri": "https://localhost:8080/",
          "height": 394
        },
        "id": "DkbENNQ2AX3L",
        "outputId": "7a3dcadb-6dcc-4ff3-b623-da14376ff12f"
      },
      "source": [
        "# 2) Reading and showing the first rows of the dataset.\n",
        "dataframe = pd.read_csv('datasets/country_vaccinations.csv')\n",
        "dataframe.head()"
      ],
      "execution_count": 3,
      "outputs": [
        {
          "output_type": "execute_result",
          "data": {
            "text/html": [
              "<div>\n",
              "<style scoped>\n",
              "    .dataframe tbody tr th:only-of-type {\n",
              "        vertical-align: middle;\n",
              "    }\n",
              "\n",
              "    .dataframe tbody tr th {\n",
              "        vertical-align: top;\n",
              "    }\n",
              "\n",
              "    .dataframe thead th {\n",
              "        text-align: right;\n",
              "    }\n",
              "</style>\n",
              "<table border=\"1\" class=\"dataframe\">\n",
              "  <thead>\n",
              "    <tr style=\"text-align: right;\">\n",
              "      <th></th>\n",
              "      <th>country</th>\n",
              "      <th>iso_code</th>\n",
              "      <th>date</th>\n",
              "      <th>total_vaccinations</th>\n",
              "      <th>people_vaccinated</th>\n",
              "      <th>people_fully_vaccinated</th>\n",
              "      <th>daily_vaccinations_raw</th>\n",
              "      <th>daily_vaccinations</th>\n",
              "      <th>total_vaccinations_per_hundred</th>\n",
              "      <th>people_vaccinated_per_hundred</th>\n",
              "      <th>people_fully_vaccinated_per_hundred</th>\n",
              "      <th>daily_vaccinations_per_million</th>\n",
              "      <th>vaccines</th>\n",
              "      <th>source_name</th>\n",
              "      <th>source_website</th>\n",
              "    </tr>\n",
              "  </thead>\n",
              "  <tbody>\n",
              "    <tr>\n",
              "      <th>0</th>\n",
              "      <td>Afghanistan</td>\n",
              "      <td>AFG</td>\n",
              "      <td>2021-02-22</td>\n",
              "      <td>0.0</td>\n",
              "      <td>0.0</td>\n",
              "      <td>NaN</td>\n",
              "      <td>NaN</td>\n",
              "      <td>NaN</td>\n",
              "      <td>0.0</td>\n",
              "      <td>0.0</td>\n",
              "      <td>NaN</td>\n",
              "      <td>NaN</td>\n",
              "      <td>Johnson&amp;Johnson, Oxford/AstraZeneca, Pfizer/Bi...</td>\n",
              "      <td>World Health Organization</td>\n",
              "      <td>https://app.powerbi.com/view?r=eyJrIjoiYTkyM2V...</td>\n",
              "    </tr>\n",
              "    <tr>\n",
              "      <th>1</th>\n",
              "      <td>Afghanistan</td>\n",
              "      <td>AFG</td>\n",
              "      <td>2021-02-23</td>\n",
              "      <td>NaN</td>\n",
              "      <td>NaN</td>\n",
              "      <td>NaN</td>\n",
              "      <td>NaN</td>\n",
              "      <td>1367.0</td>\n",
              "      <td>NaN</td>\n",
              "      <td>NaN</td>\n",
              "      <td>NaN</td>\n",
              "      <td>34.0</td>\n",
              "      <td>Johnson&amp;Johnson, Oxford/AstraZeneca, Pfizer/Bi...</td>\n",
              "      <td>World Health Organization</td>\n",
              "      <td>https://app.powerbi.com/view?r=eyJrIjoiYTkyM2V...</td>\n",
              "    </tr>\n",
              "    <tr>\n",
              "      <th>2</th>\n",
              "      <td>Afghanistan</td>\n",
              "      <td>AFG</td>\n",
              "      <td>2021-02-24</td>\n",
              "      <td>NaN</td>\n",
              "      <td>NaN</td>\n",
              "      <td>NaN</td>\n",
              "      <td>NaN</td>\n",
              "      <td>1367.0</td>\n",
              "      <td>NaN</td>\n",
              "      <td>NaN</td>\n",
              "      <td>NaN</td>\n",
              "      <td>34.0</td>\n",
              "      <td>Johnson&amp;Johnson, Oxford/AstraZeneca, Pfizer/Bi...</td>\n",
              "      <td>World Health Organization</td>\n",
              "      <td>https://app.powerbi.com/view?r=eyJrIjoiYTkyM2V...</td>\n",
              "    </tr>\n",
              "    <tr>\n",
              "      <th>3</th>\n",
              "      <td>Afghanistan</td>\n",
              "      <td>AFG</td>\n",
              "      <td>2021-02-25</td>\n",
              "      <td>NaN</td>\n",
              "      <td>NaN</td>\n",
              "      <td>NaN</td>\n",
              "      <td>NaN</td>\n",
              "      <td>1367.0</td>\n",
              "      <td>NaN</td>\n",
              "      <td>NaN</td>\n",
              "      <td>NaN</td>\n",
              "      <td>34.0</td>\n",
              "      <td>Johnson&amp;Johnson, Oxford/AstraZeneca, Pfizer/Bi...</td>\n",
              "      <td>World Health Organization</td>\n",
              "      <td>https://app.powerbi.com/view?r=eyJrIjoiYTkyM2V...</td>\n",
              "    </tr>\n",
              "    <tr>\n",
              "      <th>4</th>\n",
              "      <td>Afghanistan</td>\n",
              "      <td>AFG</td>\n",
              "      <td>2021-02-26</td>\n",
              "      <td>NaN</td>\n",
              "      <td>NaN</td>\n",
              "      <td>NaN</td>\n",
              "      <td>NaN</td>\n",
              "      <td>1367.0</td>\n",
              "      <td>NaN</td>\n",
              "      <td>NaN</td>\n",
              "      <td>NaN</td>\n",
              "      <td>34.0</td>\n",
              "      <td>Johnson&amp;Johnson, Oxford/AstraZeneca, Pfizer/Bi...</td>\n",
              "      <td>World Health Organization</td>\n",
              "      <td>https://app.powerbi.com/view?r=eyJrIjoiYTkyM2V...</td>\n",
              "    </tr>\n",
              "  </tbody>\n",
              "</table>\n",
              "</div>"
            ],
            "text/plain": [
              "       country  ...                                     source_website\n",
              "0  Afghanistan  ...  https://app.powerbi.com/view?r=eyJrIjoiYTkyM2V...\n",
              "1  Afghanistan  ...  https://app.powerbi.com/view?r=eyJrIjoiYTkyM2V...\n",
              "2  Afghanistan  ...  https://app.powerbi.com/view?r=eyJrIjoiYTkyM2V...\n",
              "3  Afghanistan  ...  https://app.powerbi.com/view?r=eyJrIjoiYTkyM2V...\n",
              "4  Afghanistan  ...  https://app.powerbi.com/view?r=eyJrIjoiYTkyM2V...\n",
              "\n",
              "[5 rows x 15 columns]"
            ]
          },
          "metadata": {},
          "execution_count": 3
        }
      ]
    },
    {
      "cell_type": "code",
      "metadata": {
        "id": "_cw1InqwBf_D"
      },
      "source": [
        "# 3) Data analysis"
      ],
      "execution_count": 4,
      "outputs": []
    },
    {
      "cell_type": "code",
      "metadata": {
        "colab": {
          "base_uri": "https://localhost:8080/",
          "height": 199
        },
        "id": "5lASm2c_DBMR",
        "outputId": "0e1708e3-6edd-4eb0-9ae1-956329d19286"
      },
      "source": [
        "# Checking data referring to Brazil (descending order per day)\n",
        "dataframe.query('country == \"Brazil\"').sort_values('date', ascending=False)[:2]"
      ],
      "execution_count": 5,
      "outputs": [
        {
          "output_type": "execute_result",
          "data": {
            "text/html": [
              "<div>\n",
              "<style scoped>\n",
              "    .dataframe tbody tr th:only-of-type {\n",
              "        vertical-align: middle;\n",
              "    }\n",
              "\n",
              "    .dataframe tbody tr th {\n",
              "        vertical-align: top;\n",
              "    }\n",
              "\n",
              "    .dataframe thead th {\n",
              "        text-align: right;\n",
              "    }\n",
              "</style>\n",
              "<table border=\"1\" class=\"dataframe\">\n",
              "  <thead>\n",
              "    <tr style=\"text-align: right;\">\n",
              "      <th></th>\n",
              "      <th>country</th>\n",
              "      <th>iso_code</th>\n",
              "      <th>date</th>\n",
              "      <th>total_vaccinations</th>\n",
              "      <th>people_vaccinated</th>\n",
              "      <th>people_fully_vaccinated</th>\n",
              "      <th>daily_vaccinations_raw</th>\n",
              "      <th>daily_vaccinations</th>\n",
              "      <th>total_vaccinations_per_hundred</th>\n",
              "      <th>people_vaccinated_per_hundred</th>\n",
              "      <th>people_fully_vaccinated_per_hundred</th>\n",
              "      <th>daily_vaccinations_per_million</th>\n",
              "      <th>vaccines</th>\n",
              "      <th>source_name</th>\n",
              "      <th>source_website</th>\n",
              "    </tr>\n",
              "  </thead>\n",
              "  <tbody>\n",
              "    <tr>\n",
              "      <th>6089</th>\n",
              "      <td>Brazil</td>\n",
              "      <td>BRA</td>\n",
              "      <td>2021-09-20</td>\n",
              "      <td>222478696.0</td>\n",
              "      <td>146421254.0</td>\n",
              "      <td>80596815.0</td>\n",
              "      <td>156042.0</td>\n",
              "      <td>1410161.0</td>\n",
              "      <td>103.97</td>\n",
              "      <td>68.42</td>\n",
              "      <td>37.66</td>\n",
              "      <td>6590.0</td>\n",
              "      <td>Johnson&amp;Johnson, Oxford/AstraZeneca, Pfizer/Bi...</td>\n",
              "      <td>Ministry of Health</td>\n",
              "      <td>https://qsprod.saude.gov.br/extensions/DEMAS_C...</td>\n",
              "    </tr>\n",
              "    <tr>\n",
              "      <th>6088</th>\n",
              "      <td>Brazil</td>\n",
              "      <td>BRA</td>\n",
              "      <td>2021-09-19</td>\n",
              "      <td>222322654.0</td>\n",
              "      <td>146354111.0</td>\n",
              "      <td>80507122.0</td>\n",
              "      <td>1725658.0</td>\n",
              "      <td>1681917.0</td>\n",
              "      <td>103.89</td>\n",
              "      <td>68.39</td>\n",
              "      <td>37.62</td>\n",
              "      <td>7860.0</td>\n",
              "      <td>Johnson&amp;Johnson, Oxford/AstraZeneca, Pfizer/Bi...</td>\n",
              "      <td>Ministry of Health</td>\n",
              "      <td>https://qsprod.saude.gov.br/extensions/DEMAS_C...</td>\n",
              "    </tr>\n",
              "  </tbody>\n",
              "</table>\n",
              "</div>"
            ],
            "text/plain": [
              "     country  ...                                     source_website\n",
              "6089  Brazil  ...  https://qsprod.saude.gov.br/extensions/DEMAS_C...\n",
              "6088  Brazil  ...  https://qsprod.saude.gov.br/extensions/DEMAS_C...\n",
              "\n",
              "[2 rows x 15 columns]"
            ]
          },
          "metadata": {},
          "execution_count": 5
        }
      ]
    },
    {
      "cell_type": "code",
      "metadata": {
        "colab": {
          "base_uri": "https://localhost:8080/"
        },
        "id": "VHzsBpFXEG3B",
        "outputId": "503215ad-8c8d-49b0-a25e-0b8068c78202"
      },
      "source": [
        "# Checking the number of different countries in the dataset\n",
        "dataframe['country'].nunique()"
      ],
      "execution_count": 6,
      "outputs": [
        {
          "output_type": "execute_result",
          "data": {
            "text/plain": [
              "222"
            ]
          },
          "metadata": {},
          "execution_count": 6
        }
      ]
    },
    {
      "cell_type": "code",
      "metadata": {
        "colab": {
          "base_uri": "https://localhost:8080/"
        },
        "id": "7U20q_XIFtSo",
        "outputId": "ea350c2a-41b0-4078-b0a2-256ea54087ec"
      },
      "source": [
        "# Last update date for each country\n",
        "dataframe.groupby('country')['date'].max().sort_values(ascending=False)"
      ],
      "execution_count": 7,
      "outputs": [
        {
          "output_type": "execute_result",
          "data": {
            "text/plain": [
              "country\n",
              "Zimbabwe            2021-09-20\n",
              "Lithuania           2021-09-20\n",
              "Isle of Man         2021-09-20\n",
              "Israel              2021-09-20\n",
              "Italy               2021-09-20\n",
              "                       ...    \n",
              "Kuwait              2021-08-14\n",
              "Niue                2021-08-02\n",
              "Saint Helena        2021-05-05\n",
              "Falkland Islands    2021-04-14\n",
              "Turkmenistan        2021-04-04\n",
              "Name: date, Length: 222, dtype: object"
            ]
          },
          "metadata": {},
          "execution_count": 7
        }
      ]
    },
    {
      "cell_type": "code",
      "metadata": {
        "colab": {
          "base_uri": "https://localhost:8080/",
          "height": 419
        },
        "id": "YYITAR4yHXV1",
        "outputId": "1c0cb667-0199-4462-8bfb-3baee63ee1b2"
      },
      "source": [
        "# Total vaccinations for each country\n",
        "immunized_per_country = dataframe.groupby('country')['total_vaccinations'].max().sort_values(ascending=False)\n",
        "immunized = immunized_per_country.to_frame().reset_index()\n",
        "immunized"
      ],
      "execution_count": 8,
      "outputs": [
        {
          "output_type": "execute_result",
          "data": {
            "text/html": [
              "<div>\n",
              "<style scoped>\n",
              "    .dataframe tbody tr th:only-of-type {\n",
              "        vertical-align: middle;\n",
              "    }\n",
              "\n",
              "    .dataframe tbody tr th {\n",
              "        vertical-align: top;\n",
              "    }\n",
              "\n",
              "    .dataframe thead th {\n",
              "        text-align: right;\n",
              "    }\n",
              "</style>\n",
              "<table border=\"1\" class=\"dataframe\">\n",
              "  <thead>\n",
              "    <tr style=\"text-align: right;\">\n",
              "      <th></th>\n",
              "      <th>country</th>\n",
              "      <th>total_vaccinations</th>\n",
              "    </tr>\n",
              "  </thead>\n",
              "  <tbody>\n",
              "    <tr>\n",
              "      <th>0</th>\n",
              "      <td>China</td>\n",
              "      <td>2.180986e+09</td>\n",
              "    </tr>\n",
              "    <tr>\n",
              "      <th>1</th>\n",
              "      <td>India</td>\n",
              "      <td>8.122325e+08</td>\n",
              "    </tr>\n",
              "    <tr>\n",
              "      <th>2</th>\n",
              "      <td>United States</td>\n",
              "      <td>3.862379e+08</td>\n",
              "    </tr>\n",
              "    <tr>\n",
              "      <th>3</th>\n",
              "      <td>Brazil</td>\n",
              "      <td>2.224787e+08</td>\n",
              "    </tr>\n",
              "    <tr>\n",
              "      <th>4</th>\n",
              "      <td>Japan</td>\n",
              "      <td>1.531187e+08</td>\n",
              "    </tr>\n",
              "    <tr>\n",
              "      <th>...</th>\n",
              "      <td>...</td>\n",
              "      <td>...</td>\n",
              "    </tr>\n",
              "    <tr>\n",
              "      <th>217</th>\n",
              "      <td>Falkland Islands</td>\n",
              "      <td>4.407000e+03</td>\n",
              "    </tr>\n",
              "    <tr>\n",
              "      <th>218</th>\n",
              "      <td>Montserrat</td>\n",
              "      <td>2.856000e+03</td>\n",
              "    </tr>\n",
              "    <tr>\n",
              "      <th>219</th>\n",
              "      <td>Niue</td>\n",
              "      <td>2.352000e+03</td>\n",
              "    </tr>\n",
              "    <tr>\n",
              "      <th>220</th>\n",
              "      <td>Tokelau</td>\n",
              "      <td>9.680000e+02</td>\n",
              "    </tr>\n",
              "    <tr>\n",
              "      <th>221</th>\n",
              "      <td>Pitcairn</td>\n",
              "      <td>9.400000e+01</td>\n",
              "    </tr>\n",
              "  </tbody>\n",
              "</table>\n",
              "<p>222 rows × 2 columns</p>\n",
              "</div>"
            ],
            "text/plain": [
              "              country  total_vaccinations\n",
              "0               China        2.180986e+09\n",
              "1               India        8.122325e+08\n",
              "2       United States        3.862379e+08\n",
              "3              Brazil        2.224787e+08\n",
              "4               Japan        1.531187e+08\n",
              "..                ...                 ...\n",
              "217  Falkland Islands        4.407000e+03\n",
              "218        Montserrat        2.856000e+03\n",
              "219              Niue        2.352000e+03\n",
              "220           Tokelau        9.680000e+02\n",
              "221          Pitcairn        9.400000e+01\n",
              "\n",
              "[222 rows x 2 columns]"
            ]
          },
          "metadata": {},
          "execution_count": 8
        }
      ]
    },
    {
      "cell_type": "code",
      "metadata": {
        "colab": {
          "base_uri": "https://localhost:8080/",
          "height": 359
        },
        "id": "1f0XBC7AJHLF",
        "outputId": "9bc08a83-48bd-4625-9eef-f049f9834338"
      },
      "source": [
        "# Top 10 countries by total vaccinations\n",
        "immunized.sort_values('total_vaccinations', ascending=False).head(10)"
      ],
      "execution_count": 9,
      "outputs": [
        {
          "output_type": "execute_result",
          "data": {
            "text/html": [
              "<div>\n",
              "<style scoped>\n",
              "    .dataframe tbody tr th:only-of-type {\n",
              "        vertical-align: middle;\n",
              "    }\n",
              "\n",
              "    .dataframe tbody tr th {\n",
              "        vertical-align: top;\n",
              "    }\n",
              "\n",
              "    .dataframe thead th {\n",
              "        text-align: right;\n",
              "    }\n",
              "</style>\n",
              "<table border=\"1\" class=\"dataframe\">\n",
              "  <thead>\n",
              "    <tr style=\"text-align: right;\">\n",
              "      <th></th>\n",
              "      <th>country</th>\n",
              "      <th>total_vaccinations</th>\n",
              "    </tr>\n",
              "  </thead>\n",
              "  <tbody>\n",
              "    <tr>\n",
              "      <th>0</th>\n",
              "      <td>China</td>\n",
              "      <td>2.180986e+09</td>\n",
              "    </tr>\n",
              "    <tr>\n",
              "      <th>1</th>\n",
              "      <td>India</td>\n",
              "      <td>8.122325e+08</td>\n",
              "    </tr>\n",
              "    <tr>\n",
              "      <th>2</th>\n",
              "      <td>United States</td>\n",
              "      <td>3.862379e+08</td>\n",
              "    </tr>\n",
              "    <tr>\n",
              "      <th>3</th>\n",
              "      <td>Brazil</td>\n",
              "      <td>2.224787e+08</td>\n",
              "    </tr>\n",
              "    <tr>\n",
              "      <th>4</th>\n",
              "      <td>Japan</td>\n",
              "      <td>1.531187e+08</td>\n",
              "    </tr>\n",
              "    <tr>\n",
              "      <th>5</th>\n",
              "      <td>Indonesia</td>\n",
              "      <td>1.248824e+08</td>\n",
              "    </tr>\n",
              "    <tr>\n",
              "      <th>6</th>\n",
              "      <td>Germany</td>\n",
              "      <td>1.058343e+08</td>\n",
              "    </tr>\n",
              "    <tr>\n",
              "      <th>7</th>\n",
              "      <td>Turkey</td>\n",
              "      <td>1.056113e+08</td>\n",
              "    </tr>\n",
              "    <tr>\n",
              "      <th>8</th>\n",
              "      <td>Mexico</td>\n",
              "      <td>9.527140e+07</td>\n",
              "    </tr>\n",
              "    <tr>\n",
              "      <th>9</th>\n",
              "      <td>United Kingdom</td>\n",
              "      <td>9.305914e+07</td>\n",
              "    </tr>\n",
              "  </tbody>\n",
              "</table>\n",
              "</div>"
            ],
            "text/plain": [
              "          country  total_vaccinations\n",
              "0           China        2.180986e+09\n",
              "1           India        8.122325e+08\n",
              "2   United States        3.862379e+08\n",
              "3          Brazil        2.224787e+08\n",
              "4           Japan        1.531187e+08\n",
              "5       Indonesia        1.248824e+08\n",
              "6         Germany        1.058343e+08\n",
              "7          Turkey        1.056113e+08\n",
              "8          Mexico        9.527140e+07\n",
              "9  United Kingdom        9.305914e+07"
            ]
          },
          "metadata": {},
          "execution_count": 9
        }
      ]
    },
    {
      "cell_type": "code",
      "metadata": {
        "colab": {
          "base_uri": "https://localhost:8080/"
        },
        "id": "Gyely-1YK7CG",
        "outputId": "43920aab-59d7-46c8-a23a-db5e84ddda5c"
      },
      "source": [
        "# Checking the most used vaccines by country\n",
        "vaccines_per_country = dataframe[['country', 'date', 'vaccines']]\n",
        "vaccines_per_country.groupby('vaccines')['country'].nunique().sort_values(ascending=False)"
      ],
      "execution_count": 10,
      "outputs": [
        {
          "output_type": "execute_result",
          "data": {
            "text/plain": [
              "vaccines\n",
              "Oxford/AstraZeneca                                                            35\n",
              "Johnson&Johnson, Moderna, Oxford/AstraZeneca, Pfizer/BioNTech                 23\n",
              "Oxford/AstraZeneca, Sinopharm/Beijing                                         16\n",
              "Moderna, Oxford/AstraZeneca, Pfizer/BioNTech                                  15\n",
              "Oxford/AstraZeneca, Pfizer/BioNTech                                           13\n",
              "                                                                              ..\n",
              "Moderna, Oxford/AstraZeneca                                                    1\n",
              "Medigen, Moderna, Oxford/AstraZeneca                                           1\n",
              "Johnson&Johnson, Oxford/AstraZeneca, Sinopharm/Beijing, Sinovac, Sputnik V     1\n",
              "Johnson&Johnson, Oxford/AstraZeneca, Pfizer/BioNTech, Sinovac                  1\n",
              "Abdala, Soberana02                                                             1\n",
              "Name: country, Length: 68, dtype: int64"
            ]
          },
          "metadata": {},
          "execution_count": 10
        }
      ]
    },
    {
      "cell_type": "code",
      "metadata": {
        "colab": {
          "base_uri": "https://localhost:8080/"
        },
        "id": "zrK8d9fUMWio",
        "outputId": "a3608ac8-87ff-4b14-f6a4-1c7c49d9f6f8"
      },
      "source": [
        "# Checking which country has the highest number of people vaccinated per day\n",
        "dataframe.groupby('country')['daily_vaccinations'].max().sort_values(ascending=False)"
      ],
      "execution_count": 11,
      "outputs": [
        {
          "output_type": "execute_result",
          "data": {
            "text/plain": [
              "country\n",
              "China            22424286.0\n",
              "India             9340631.0\n",
              "United States     3384387.0\n",
              "Brazil            2045834.0\n",
              "Japan             1997542.0\n",
              "                    ...    \n",
              "Niue                   87.0\n",
              "Montserrat             53.0\n",
              "Tokelau                23.0\n",
              "Pitcairn                1.0\n",
              "Turkmenistan            NaN\n",
              "Name: daily_vaccinations, Length: 222, dtype: float64"
            ]
          },
          "metadata": {},
          "execution_count": 11
        }
      ]
    },
    {
      "cell_type": "code",
      "metadata": {
        "colab": {
          "base_uri": "https://localhost:8080/"
        },
        "id": "Udgzt8hJNH7f",
        "outputId": "81e958aa-a3ba-45df-deeb-a0540461a425"
      },
      "source": [
        "# Checking the average vaccination by country\n",
        "average_c = dataframe.groupby('country')['daily_vaccinations'].mean().sort_values(ascending=False)\n",
        "average_c = average_c.to_frame().reset_index\n",
        "average_c"
      ],
      "execution_count": 12,
      "outputs": [
        {
          "output_type": "execute_result",
          "data": {
            "text/plain": [
              "<bound method DataFrame.reset_index of                    daily_vaccinations\n",
              "country                              \n",
              "China                    7.772743e+06\n",
              "India                    3.156185e+06\n",
              "United States            1.400649e+06\n",
              "Brazil                   8.878472e+05\n",
              "Japan                    7.002678e+05\n",
              "...                               ...\n",
              "Wallis and Futuna        5.373714e+01\n",
              "Tokelau                  1.866071e+01\n",
              "Montserrat               1.338914e+01\n",
              "Pitcairn                 5.119048e-01\n",
              "Turkmenistan                      NaN\n",
              "\n",
              "[222 rows x 1 columns]>"
            ]
          },
          "metadata": {},
          "execution_count": 12
        }
      ]
    }
  ]
}