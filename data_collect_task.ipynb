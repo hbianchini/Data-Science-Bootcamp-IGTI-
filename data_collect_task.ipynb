{
  "nbformat": 4,
  "nbformat_minor": 0,
  "metadata": {
    "colab": {
      "name": "data-collect-task.ipynb",
      "provenance": [],
      "collapsed_sections": []
    },
    "kernelspec": {
      "name": "python3",
      "display_name": "Python 3"
    },
    "language_info": {
      "name": "python"
    }
  },
  "cells": [
    {
      "cell_type": "code",
      "metadata": {
        "id": "BSmjCnm_lrIr"
      },
      "source": [
        "# Example 1: learning about data collect using a real Kaggle dataset.\n",
        "# Dataset: https://www.kaggle.com/gpreda/covid-world-vaccination-progress (Data Update: 2021/09/21)\n",
        "# Author: Humberto Bianchini"
      ],
      "execution_count": 1,
      "outputs": []
    },
    {
      "cell_type": "code",
      "metadata": {
        "id": "6-x984S4_dV2"
      },
      "source": [
        "# 1) Importing all necessary libraries.\n",
        "import pandas as pd\n",
        "import os"
      ],
      "execution_count": 2,
      "outputs": []
    },
    {
      "cell_type": "code",
      "metadata": {
        "id": "DkbENNQ2AX3L"
      },
      "source": [
        "# 2) Reading and showing the first rows of the dataset.\n",
        "dataframe = pd.read_csv('datasets/country_vaccinations.csv')\n",
        "dataframe.head()"
      ],
      "execution_count": null,
      "outputs": []
    },
    {
      "cell_type": "code",
      "metadata": {
        "id": "_cw1InqwBf_D"
      },
      "source": [
        "# 3) Data analysis"
      ],
      "execution_count": null,
      "outputs": []
    },
    {
      "cell_type": "code",
      "metadata": {
        "id": "5lASm2c_DBMR"
      },
      "source": [
        "# Checking data referring to Brazil (descending order per day)\n",
        "dataframe.query('country == \"Brazil\"').sort_values('date', ascending=False)[:2]"
      ],
      "execution_count": null,
      "outputs": []
    },
    {
      "cell_type": "code",
      "metadata": {
        "colab": {
          "base_uri": "https://localhost:8080/"
        },
        "id": "VHzsBpFXEG3B",
        "outputId": "2331cc2f-225e-4ceb-b1a7-44f500244cb2"
      },
      "source": [
        "# Checking the number of different countries in the dataset\n",
        "dataframe['country'].nunique()"
      ],
      "execution_count": 12,
      "outputs": [
        {
          "output_type": "execute_result",
          "data": {
            "text/plain": [
              "222"
            ]
          },
          "metadata": {},
          "execution_count": 12
        }
      ]
    },
    {
      "cell_type": "code",
      "metadata": {
        "id": "7U20q_XIFtSo"
      },
      "source": [
        "# Last update date for each country\n",
        "dataframe.groupby('country')['date'].max().sort_values(ascending=False)"
      ],
      "execution_count": null,
      "outputs": []
    },
    {
      "cell_type": "code",
      "metadata": {
        "id": "YYITAR4yHXV1"
      },
      "source": [
        "# Total vaccinations for each country\n",
        "immunized_per_country = dataframe.groupby('country')['total_vaccinations'].max().sort_values(ascending=False)\n",
        "immunized = immunized_per_country.to_frame().reset_index()\n",
        "immunized"
      ],
      "execution_count": null,
      "outputs": []
    },
    {
      "cell_type": "code",
      "metadata": {
        "id": "1f0XBC7AJHLF"
      },
      "source": [
        "# Top 10 countries by total vaccinations\n",
        "immunized.sort_values('total_vaccinations', ascending=False).head(10)"
      ],
      "execution_count": null,
      "outputs": []
    },
    {
      "cell_type": "code",
      "metadata": {
        "id": "Gyely-1YK7CG"
      },
      "source": [
        "# Checking the most used vaccines by country\n",
        "vaccines_per_country = dataframe[['country', 'date', 'vaccines']]\n",
        "vaccines_per_country.groupby('vaccines')['country'].nunique().sort_values(ascending=False)"
      ],
      "execution_count": null,
      "outputs": []
    },
    {
      "cell_type": "code",
      "metadata": {
        "id": "zrK8d9fUMWio"
      },
      "source": [
        "# Checking which country has the highest number of people vaccinated per day\n",
        "dataframe.groupby('country')['daily_vaccinations'].max().sort_values(ascending=False)"
      ],
      "execution_count": null,
      "outputs": []
    },
    {
      "cell_type": "code",
      "metadata": {
        "id": "Udgzt8hJNH7f"
      },
      "source": [
        "# Checking the average vaccination by country\n",
        "average_c = dataframe.groupby('country')['daily_vaccinations'].mean().sort_values(ascending=False)\n",
        "average_c = average_c.to_frame().reset_index\n",
        "average_c"
      ],
      "execution_count": null,
      "outputs": []
    },
    {
      "cell_type": "code",
      "metadata": {
        "id": "QTToBWhINxE6"
      },
      "source": [
        ""
      ],
      "execution_count": null,
      "outputs": []
    }
  ]
}