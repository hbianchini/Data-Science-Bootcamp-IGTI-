{
  "nbformat": 4,
  "nbformat_minor": 0,
  "metadata": {
    "name": "dataPreparation",
    "notebookId": 2205451470308314,
    "colab": {
      "name": "dataPreparation.ipynb",
      "provenance": []
    },
    "language_info": {
      "name": "python"
    },
    "kernelspec": {
      "name": "python3",
      "display_name": "Python 3"
    }
  },
  "cells": [
    {
      "cell_type": "code",
      "metadata": {
        "id": "82qZMKPHMgdD"
      },
      "source": [
        "# Example: learning about spark and data preparation using MLlib.\n",
        "# Dataset: datasets/salary.csv, designation.json\n",
        "# Author: Humberto Bianchini"
      ],
      "execution_count": 1,
      "outputs": []
    },
    {
      "cell_type": "code",
      "metadata": {
        "id": "pbElf7NsMgdS"
      },
      "source": [
        "# 1) Importing all necessary libraries and Spark session creation.\n",
        "import math\n",
        "import random\n",
        "from pyspark.ml.linalg import Vectors\n",
        "from pyspark.ml.feature import VectorAssembler\n",
        "from pyspark.ml.feature import PCA\n",
        "from pyspark.mllib.stat import Statistics\n",
        "from pyspark.sql import functions as F\n",
        "from pyspark.sql import SparkSession\n",
        "from pyspark.sql.types import LongType\n",
        "\n",
        "spark = SparkSession.builder.appName(\"Data Preparation\").getOrCreate()"
      ],
      "execution_count": 2,
      "outputs": []
    },
    {
      "cell_type": "code",
      "metadata": {
        "colab": {
          "base_uri": "https://localhost:8080/"
        },
        "id": "-7iYL4v2MgdY",
        "outputId": "375c8f3b-b6f9-4f92-f6f3-035584f23d2d"
      },
      "source": [
        "# 2) Creating a RDD (Resilient Distributed Dataset) and reading the two datasets.\n",
        "employers = spark.sparkContext.parallelize([(1, \"Joao\", 25), (2, \"Ricardo\", 35), (3, \"Marcio\", 24), \\\n",
        "                           (4, \"Janete\", 28), (5, \"Kely\", 26), (6, \"Vicente\", 35), \\\n",
        "                           (7, \"Jander\", 38), (8, \"Maria\", 32), (9, \"Gabriel\", 29), \\\n",
        "                           (10, \"Kimberly\", 29), (11, \"Alex\", 28), (12, \"Gustavo\", 25), \\\n",
        "                           (13, \"Rafael\", 31)]).toDF([\"emp_id\",\"name\",\"age\"])\n",
        "employers.show(5)"
      ],
      "execution_count": 3,
      "outputs": [
        {
          "output_type": "stream",
          "name": "stdout",
          "text": [
            "+------+-------+---+\n",
            "|emp_id|   name|age|\n",
            "+------+-------+---+\n",
            "|     1|   Joao| 25|\n",
            "|     2|Ricardo| 35|\n",
            "|     3| Marcio| 24|\n",
            "|     4| Janete| 28|\n",
            "|     5|   Kely| 26|\n",
            "+------+-------+---+\n",
            "only showing top 5 rows\n",
            "\n"
          ]
        }
      ]
    },
    {
      "cell_type": "code",
      "metadata": {
        "id": "xCbYd8dUMgdi"
      },
      "source": [
        "# 3) Reading and showing the first rows of the datasets.\n",
        "salary = spark.read.json(\"salary.json\")\n",
        "position = spark.read.json(\"designation.json\")"
      ],
      "execution_count": 4,
      "outputs": []
    },
    {
      "cell_type": "code",
      "metadata": {
        "colab": {
          "base_uri": "https://localhost:8080/"
        },
        "id": "vA0xW3qaMgdj",
        "outputId": "d2245633-466f-479e-80bc-66eac1d10836"
      },
      "source": [
        "salary.show(5)"
      ],
      "execution_count": 5,
      "outputs": [
        {
          "output_type": "stream",
          "name": "stdout",
          "text": [
            "+----+------+\n",
            "|e_id|salary|\n",
            "+----+------+\n",
            "|   1| 10000|\n",
            "|   2| 12000|\n",
            "|   3| 12000|\n",
            "|   4|  null|\n",
            "|   5|   120|\n",
            "+----+------+\n",
            "only showing top 5 rows\n",
            "\n"
          ]
        }
      ]
    },
    {
      "cell_type": "code",
      "metadata": {
        "colab": {
          "base_uri": "https://localhost:8080/"
        },
        "id": "a67Ow83lMgdm",
        "outputId": "0bbe50d9-8077-4206-aaf2-22daf4c4258b"
      },
      "source": [
        "position.show(5)"
      ],
      "execution_count": 6,
      "outputs": [
        {
          "output_type": "stream",
          "name": "stdout",
          "text": [
            "+---+----------+\n",
            "| id|  position|\n",
            "+---+----------+\n",
            "|  1|Associated|\n",
            "|  2| Tech Lead|\n",
            "|  3| Tech Lead|\n",
            "|  4|Associated|\n",
            "|  5| Tech Lead|\n",
            "+---+----------+\n",
            "only showing top 5 rows\n",
            "\n"
          ]
        }
      ]
    },
    {
      "cell_type": "code",
      "metadata": {
        "id": "rDMRjCktMgdr"
      },
      "source": [
        "# 4) Creating a final dataframe with the data.\n",
        "df_final = employers.join(salary, employers.emp_id == salary.e_id).join(position, employers.emp_id == position.id).select(\"e_id\", \"name\", \"age\", \"position\", \"salary\")"
      ],
      "execution_count": 7,
      "outputs": []
    },
    {
      "cell_type": "code",
      "metadata": {
        "colab": {
          "base_uri": "https://localhost:8080/"
        },
        "id": "rN3WJHxAMgdw",
        "outputId": "8afda2c2-e396-4b54-8235-e43b4d6f6879"
      },
      "source": [
        "df_final.show()"
      ],
      "execution_count": 8,
      "outputs": [
        {
          "output_type": "stream",
          "name": "stdout",
          "text": [
            "+----+--------+---+----------------+------+\n",
            "|e_id|    name|age|        position|salary|\n",
            "+----+--------+---+----------------+------+\n",
            "|   1|    Joao| 25|      Associated| 10000|\n",
            "|   2| Ricardo| 35|       Tech Lead| 12000|\n",
            "|   3|  Marcio| 24|       Tech Lead| 12000|\n",
            "|   4|  Janete| 28|      Associated|  null|\n",
            "|   5|    Kely| 26|       Tech Lead|   120|\n",
            "|   6| Vicente| 35|Senior Tech Lead| 22000|\n",
            "|   7|  Jander| 38|Senior Tech Lead| 20000|\n",
            "|   8|   Maria| 32|       Tech Lead| 12000|\n",
            "|   9| Gabriel| 29|       Tech Lead| 10000|\n",
            "|  10|Kimberly| 29|      Associated|  8000|\n",
            "|  11|    Alex| 28|       Tech Lead| 12000|\n",
            "|  12| Gustavo| 25|       Tech Lead| 12000|\n",
            "|  13|  Rafael| 31|       Tech Lead|120000|\n",
            "+----+--------+---+----------------+------+\n",
            "\n"
          ]
        }
      ]
    },
    {
      "cell_type": "code",
      "metadata": {
        "colab": {
          "base_uri": "https://localhost:8080/"
        },
        "id": "6iNGFt7zMgd0",
        "outputId": "97ce1f2a-d7c1-4868-a857-4ea6ed635cfa"
      },
      "source": [
        "# 5) Dataframe treatment (dropping null rows or inserting salary mean in the null value)\n",
        "clean_data = df_final.na.drop()\n",
        "clean_data.show()"
      ],
      "execution_count": 9,
      "outputs": [
        {
          "output_type": "stream",
          "name": "stdout",
          "text": [
            "+----+--------+---+----------------+------+\n",
            "|e_id|    name|age|        position|salary|\n",
            "+----+--------+---+----------------+------+\n",
            "|   1|    Joao| 25|      Associated| 10000|\n",
            "|   2| Ricardo| 35|       Tech Lead| 12000|\n",
            "|   3|  Marcio| 24|       Tech Lead| 12000|\n",
            "|   5|    Kely| 26|       Tech Lead|   120|\n",
            "|   6| Vicente| 35|Senior Tech Lead| 22000|\n",
            "|   7|  Jander| 38|Senior Tech Lead| 20000|\n",
            "|   8|   Maria| 32|       Tech Lead| 12000|\n",
            "|   9| Gabriel| 29|       Tech Lead| 10000|\n",
            "|  10|Kimberly| 29|      Associated|  8000|\n",
            "|  11|    Alex| 28|       Tech Lead| 12000|\n",
            "|  12| Gustavo| 25|       Tech Lead| 12000|\n",
            "|  13|  Rafael| 31|       Tech Lead|120000|\n",
            "+----+--------+---+----------------+------+\n",
            "\n"
          ]
        }
      ]
    },
    {
      "cell_type": "code",
      "metadata": {
        "colab": {
          "base_uri": "https://localhost:8080/"
        },
        "id": "hk1LjXo5e4pK",
        "outputId": "840558c5-1d4f-4ecd-9a94-28067c3e01ef"
      },
      "source": [
        "mean_salary = math.floor(salary.select(F.mean('salary')).collect()[0][0])\n",
        "print(mean_salary)\n",
        "clean_data = df_final.na.fill({'salary': mean_salary})\n",
        "clean_data.show()"
      ],
      "execution_count": 10,
      "outputs": [
        {
          "output_type": "stream",
          "name": "stdout",
          "text": [
            "20843\n",
            "+----+--------+---+----------------+------+\n",
            "|e_id|    name|age|        position|salary|\n",
            "+----+--------+---+----------------+------+\n",
            "|   1|    Joao| 25|      Associated| 10000|\n",
            "|   2| Ricardo| 35|       Tech Lead| 12000|\n",
            "|   3|  Marcio| 24|       Tech Lead| 12000|\n",
            "|   4|  Janete| 28|      Associated| 20843|\n",
            "|   5|    Kely| 26|       Tech Lead|   120|\n",
            "|   6| Vicente| 35|Senior Tech Lead| 22000|\n",
            "|   7|  Jander| 38|Senior Tech Lead| 20000|\n",
            "|   8|   Maria| 32|       Tech Lead| 12000|\n",
            "|   9| Gabriel| 29|       Tech Lead| 10000|\n",
            "|  10|Kimberly| 29|      Associated|  8000|\n",
            "|  11|    Alex| 28|       Tech Lead| 12000|\n",
            "|  12| Gustavo| 25|       Tech Lead| 12000|\n",
            "|  13|  Rafael| 31|       Tech Lead|120000|\n",
            "+----+--------+---+----------------+------+\n",
            "\n"
          ]
        }
      ]
    },
    {
      "cell_type": "code",
      "metadata": {
        "colab": {
          "base_uri": "https://localhost:8080/"
        },
        "id": "hKMSag9dMgeE",
        "outputId": "45db7645-7b68-464f-f3ee-ebc276d7a3f2"
      },
      "source": [
        "# 6) Data transformation.\n",
        "concat_func = F.udf(lambda name, age: name + \"_\" + str(age))\n",
        "concat_df = clean_data.withColumn(\"name_age\", concat_func(clean_data.name, clean_data.age))\n",
        "concat_df.show()"
      ],
      "execution_count": 11,
      "outputs": [
        {
          "output_type": "stream",
          "name": "stdout",
          "text": [
            "+----+--------+---+----------------+------+-----------+\n",
            "|e_id|    name|age|        position|salary|   name_age|\n",
            "+----+--------+---+----------------+------+-----------+\n",
            "|   1|    Joao| 25|      Associated| 10000|    Joao_25|\n",
            "|   2| Ricardo| 35|       Tech Lead| 12000| Ricardo_35|\n",
            "|   3|  Marcio| 24|       Tech Lead| 12000|  Marcio_24|\n",
            "|   4|  Janete| 28|      Associated| 20843|  Janete_28|\n",
            "|   5|    Kely| 26|       Tech Lead|   120|    Kely_26|\n",
            "|   6| Vicente| 35|Senior Tech Lead| 22000| Vicente_35|\n",
            "|   7|  Jander| 38|Senior Tech Lead| 20000|  Jander_38|\n",
            "|   8|   Maria| 32|       Tech Lead| 12000|   Maria_32|\n",
            "|   9| Gabriel| 29|       Tech Lead| 10000| Gabriel_29|\n",
            "|  10|Kimberly| 29|      Associated|  8000|Kimberly_29|\n",
            "|  11|    Alex| 28|       Tech Lead| 12000|    Alex_28|\n",
            "|  12| Gustavo| 25|       Tech Lead| 12000| Gustavo_25|\n",
            "|  13|  Rafael| 31|       Tech Lead|120000|  Rafael_31|\n",
            "+----+--------+---+----------------+------+-----------+\n",
            "\n"
          ]
        }
      ]
    },
    {
      "cell_type": "code",
      "metadata": {
        "id": "ZitoQ2noMgeG"
      },
      "source": [
        "# 7) Converting a simples function to converting a salary, Real(R$) to dollar($))\n",
        "def realDolar(salary):\n",
        "  return salary*0.25\n",
        "real_dolar = F.udf(lambda salary: realDolar(salary), LongType())\n",
        "df_real_dolar = clean_data.withColumn(\"US$ Salary\", real_dolar(clean_data.salary))\n",
        "#df_real_dolar.show()"
      ],
      "execution_count": 12,
      "outputs": []
    },
    {
      "cell_type": "markdown",
      "metadata": {
        "id": "Ha8TYKdiMgeH"
      },
      "source": [
        "Correlações"
      ]
    },
    {
      "cell_type": "code",
      "metadata": {
        "id": "3arxjL7lMgeI"
      },
      "source": [
        "# 8) Using random series to see how correlation works.\n",
        "serie_1 = spark.sparkContext.parallelize(random.sample(range(1,101),10))\n",
        "serie_2 = spark.sparkContext.parallelize(random.sample(range(1,101),10))\n",
        "serie_3=serie_1.map(realDolar)"
      ],
      "execution_count": 13,
      "outputs": []
    },
    {
      "cell_type": "code",
      "metadata": {
        "colab": {
          "base_uri": "https://localhost:8080/"
        },
        "id": "zjFyiuYSMgeJ",
        "outputId": "0a9100b3-5339-4941-e843-b9dc6c432cce"
      },
      "source": [
        "# Correlation between to random series.\n",
        "correlation = Statistics.corr(serie_1, serie_2, method = \"pearson\")\n",
        "print(correlation)"
      ],
      "execution_count": 14,
      "outputs": [
        {
          "output_type": "stream",
          "name": "stdout",
          "text": [
            "0.6052812063142593\n"
          ]
        }
      ]
    },
    {
      "cell_type": "code",
      "metadata": {
        "colab": {
          "base_uri": "https://localhost:8080/"
        },
        "id": "4_chnM_hMgeK",
        "outputId": "a7fc36ba-2dca-47b8-e1f2-b909f4fa266d"
      },
      "source": [
        "# Correlation between two similar series.\n",
        "correlation = Statistics.corr(serie_1, serie_3, method = \"pearson\")\n",
        "print(correlation)"
      ],
      "execution_count": 15,
      "outputs": [
        {
          "output_type": "stream",
          "name": "stdout",
          "text": [
            "1.0\n"
          ]
        }
      ]
    }
  ]
}